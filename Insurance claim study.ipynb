{
 "cells": [
  {
   "cell_type": "code",
   "execution_count": 1,
   "id": "e56d3a8d",
   "metadata": {},
   "outputs": [],
   "source": [
    "# Import neccessary libraries\n",
    "import numpy as np\n",
    "import pandas as pd\n",
    "import matplotlib.pyplot as plt\n",
    "import seaborn as sns\n",
    "import scipy.stats as stats\n",
    "# seaborn to show graphs in jupyter\n",
    "%matplotlib inline"
   ]
  },
  {
   "cell_type": "markdown",
   "id": "3791f77c",
   "metadata": {},
   "source": [
    "# 1. Import claims_data.csv and cust_data.csv which is provided to you and combine the two datasets appropriately to create a 360-degree view of the data. Use the same for the subsequent questions."
   ]
  },
  {
   "cell_type": "code",
   "execution_count": 2,
   "id": "d4ea4469",
   "metadata": {},
   "outputs": [],
   "source": [
    "claims_data=pd.read_csv('C:/Users/Ajay/Downloads/Python Case Studies/Case Study 3 - Insurance Claims Case Study/claims.csv')"
   ]
  },
  {
   "cell_type": "code",
   "execution_count": 3,
   "id": "30343e90",
   "metadata": {},
   "outputs": [],
   "source": [
    "cust_demo=pd.read_csv('C:/Users/Ajay/Downloads/Python Case Studies/Case Study 3 - Insurance Claims Case Study/cust_demographics.csv')"
   ]
  },
  {
   "cell_type": "code",
   "execution_count": 4,
   "id": "85e9f545",
   "metadata": {},
   "outputs": [
    {
     "data": {
      "text/html": [
       "<div>\n",
       "<style scoped>\n",
       "    .dataframe tbody tr th:only-of-type {\n",
       "        vertical-align: middle;\n",
       "    }\n",
       "\n",
       "    .dataframe tbody tr th {\n",
       "        vertical-align: top;\n",
       "    }\n",
       "\n",
       "    .dataframe thead th {\n",
       "        text-align: right;\n",
       "    }\n",
       "</style>\n",
       "<table border=\"1\" class=\"dataframe\">\n",
       "  <thead>\n",
       "    <tr style=\"text-align: right;\">\n",
       "      <th></th>\n",
       "      <th>claim_id</th>\n",
       "      <th>customer_id</th>\n",
       "      <th>incident_cause</th>\n",
       "      <th>claim_date</th>\n",
       "      <th>claim_area</th>\n",
       "      <th>police_report</th>\n",
       "      <th>claim_type</th>\n",
       "      <th>claim_amount</th>\n",
       "      <th>total_policy_claims</th>\n",
       "      <th>fraudulent</th>\n",
       "    </tr>\n",
       "  </thead>\n",
       "  <tbody>\n",
       "    <tr>\n",
       "      <th>0</th>\n",
       "      <td>54004764</td>\n",
       "      <td>21868593</td>\n",
       "      <td>Driver error</td>\n",
       "      <td>11/27/2017</td>\n",
       "      <td>Auto</td>\n",
       "      <td>No</td>\n",
       "      <td>Material only</td>\n",
       "      <td>$2980</td>\n",
       "      <td>1.0</td>\n",
       "      <td>No</td>\n",
       "    </tr>\n",
       "    <tr>\n",
       "      <th>1</th>\n",
       "      <td>33985796</td>\n",
       "      <td>75740424</td>\n",
       "      <td>Crime</td>\n",
       "      <td>10/03/2018</td>\n",
       "      <td>Home</td>\n",
       "      <td>Unknown</td>\n",
       "      <td>Material only</td>\n",
       "      <td>$2980</td>\n",
       "      <td>3.0</td>\n",
       "      <td>No</td>\n",
       "    </tr>\n",
       "    <tr>\n",
       "      <th>2</th>\n",
       "      <td>53522022</td>\n",
       "      <td>30308357</td>\n",
       "      <td>Other driver error</td>\n",
       "      <td>02/02/2018</td>\n",
       "      <td>Auto</td>\n",
       "      <td>No</td>\n",
       "      <td>Material only</td>\n",
       "      <td>$3369.5</td>\n",
       "      <td>1.0</td>\n",
       "      <td>Yes</td>\n",
       "    </tr>\n",
       "    <tr>\n",
       "      <th>3</th>\n",
       "      <td>13015401</td>\n",
       "      <td>47830476</td>\n",
       "      <td>Natural causes</td>\n",
       "      <td>06/17/2018</td>\n",
       "      <td>Auto</td>\n",
       "      <td>No</td>\n",
       "      <td>Material only</td>\n",
       "      <td>$1680</td>\n",
       "      <td>1.0</td>\n",
       "      <td>No</td>\n",
       "    </tr>\n",
       "    <tr>\n",
       "      <th>4</th>\n",
       "      <td>22890252</td>\n",
       "      <td>19269962</td>\n",
       "      <td>Crime</td>\n",
       "      <td>01/13/2018</td>\n",
       "      <td>Auto</td>\n",
       "      <td>No</td>\n",
       "      <td>Material only</td>\n",
       "      <td>$2680</td>\n",
       "      <td>1.0</td>\n",
       "      <td>No</td>\n",
       "    </tr>\n",
       "  </tbody>\n",
       "</table>\n",
       "</div>"
      ],
      "text/plain": [
       "   claim_id  customer_id      incident_cause  claim_date claim_area  \\\n",
       "0  54004764     21868593        Driver error  11/27/2017       Auto   \n",
       "1  33985796     75740424               Crime  10/03/2018       Home   \n",
       "2  53522022     30308357  Other driver error  02/02/2018       Auto   \n",
       "3  13015401     47830476      Natural causes  06/17/2018       Auto   \n",
       "4  22890252     19269962               Crime  01/13/2018       Auto   \n",
       "\n",
       "  police_report     claim_type claim_amount  total_policy_claims fraudulent  \n",
       "0            No  Material only        $2980                  1.0         No  \n",
       "1       Unknown  Material only        $2980                  3.0         No  \n",
       "2            No  Material only      $3369.5                  1.0        Yes  \n",
       "3            No  Material only        $1680                  1.0         No  \n",
       "4            No  Material only        $2680                  1.0         No  "
      ]
     },
     "execution_count": 4,
     "metadata": {},
     "output_type": "execute_result"
    }
   ],
   "source": [
    "claims_data.head()"
   ]
  },
  {
   "cell_type": "code",
   "execution_count": 5,
   "id": "e3a3c514",
   "metadata": {},
   "outputs": [
    {
     "data": {
      "text/html": [
       "<div>\n",
       "<style scoped>\n",
       "    .dataframe tbody tr th:only-of-type {\n",
       "        vertical-align: middle;\n",
       "    }\n",
       "\n",
       "    .dataframe tbody tr th {\n",
       "        vertical-align: top;\n",
       "    }\n",
       "\n",
       "    .dataframe thead th {\n",
       "        text-align: right;\n",
       "    }\n",
       "</style>\n",
       "<table border=\"1\" class=\"dataframe\">\n",
       "  <thead>\n",
       "    <tr style=\"text-align: right;\">\n",
       "      <th></th>\n",
       "      <th>CUST_ID</th>\n",
       "      <th>gender</th>\n",
       "      <th>DateOfBirth</th>\n",
       "      <th>State</th>\n",
       "      <th>Contact</th>\n",
       "      <th>Segment</th>\n",
       "    </tr>\n",
       "  </thead>\n",
       "  <tbody>\n",
       "    <tr>\n",
       "      <th>0</th>\n",
       "      <td>21868593</td>\n",
       "      <td>Female</td>\n",
       "      <td>12-Jan-79</td>\n",
       "      <td>VT</td>\n",
       "      <td>789-916-8172</td>\n",
       "      <td>Platinum</td>\n",
       "    </tr>\n",
       "    <tr>\n",
       "      <th>1</th>\n",
       "      <td>75740424</td>\n",
       "      <td>Female</td>\n",
       "      <td>13-Jan-70</td>\n",
       "      <td>ME</td>\n",
       "      <td>265-543-1264</td>\n",
       "      <td>Silver</td>\n",
       "    </tr>\n",
       "    <tr>\n",
       "      <th>2</th>\n",
       "      <td>30308357</td>\n",
       "      <td>Female</td>\n",
       "      <td>11-Mar-84</td>\n",
       "      <td>TN</td>\n",
       "      <td>798-631-4758</td>\n",
       "      <td>Silver</td>\n",
       "    </tr>\n",
       "    <tr>\n",
       "      <th>3</th>\n",
       "      <td>47830476</td>\n",
       "      <td>Female</td>\n",
       "      <td>01-May-86</td>\n",
       "      <td>MA</td>\n",
       "      <td>413-187-7945</td>\n",
       "      <td>Silver</td>\n",
       "    </tr>\n",
       "    <tr>\n",
       "      <th>4</th>\n",
       "      <td>19269962</td>\n",
       "      <td>Male</td>\n",
       "      <td>13-May-77</td>\n",
       "      <td>NV</td>\n",
       "      <td>956-871-8691</td>\n",
       "      <td>Gold</td>\n",
       "    </tr>\n",
       "  </tbody>\n",
       "</table>\n",
       "</div>"
      ],
      "text/plain": [
       "    CUST_ID  gender DateOfBirth State       Contact   Segment\n",
       "0  21868593  Female   12-Jan-79    VT  789-916-8172  Platinum\n",
       "1  75740424  Female   13-Jan-70    ME  265-543-1264    Silver\n",
       "2  30308357  Female   11-Mar-84    TN  798-631-4758    Silver\n",
       "3  47830476  Female   01-May-86    MA  413-187-7945    Silver\n",
       "4  19269962    Male   13-May-77    NV  956-871-8691      Gold"
      ]
     },
     "execution_count": 5,
     "metadata": {},
     "output_type": "execute_result"
    }
   ],
   "source": [
    "cust_demo.head()"
   ]
  },
  {
   "cell_type": "code",
   "execution_count": 6,
   "id": "fc9aa089",
   "metadata": {},
   "outputs": [],
   "source": [
    "cust_claim=pd.merge(cust_demo,claims_data, how='left',left_on='CUST_ID',right_on='customer_id')"
   ]
  },
  {
   "cell_type": "code",
   "execution_count": 13,
   "id": "98137c22",
   "metadata": {},
   "outputs": [
    {
     "data": {
      "text/html": [
       "<div>\n",
       "<style scoped>\n",
       "    .dataframe tbody tr th:only-of-type {\n",
       "        vertical-align: middle;\n",
       "    }\n",
       "\n",
       "    .dataframe tbody tr th {\n",
       "        vertical-align: top;\n",
       "    }\n",
       "\n",
       "    .dataframe thead th {\n",
       "        text-align: right;\n",
       "    }\n",
       "</style>\n",
       "<table border=\"1\" class=\"dataframe\">\n",
       "  <thead>\n",
       "    <tr style=\"text-align: right;\">\n",
       "      <th></th>\n",
       "      <th>CUST_ID</th>\n",
       "      <th>gender</th>\n",
       "      <th>DateOfBirth</th>\n",
       "      <th>State</th>\n",
       "      <th>Contact</th>\n",
       "      <th>Segment</th>\n",
       "      <th>claim_id</th>\n",
       "      <th>incident_cause</th>\n",
       "      <th>claim_date</th>\n",
       "      <th>claim_area</th>\n",
       "      <th>police_report</th>\n",
       "      <th>claim_type</th>\n",
       "      <th>claim_amount</th>\n",
       "      <th>total_policy_claims</th>\n",
       "      <th>fraudulent</th>\n",
       "    </tr>\n",
       "  </thead>\n",
       "  <tbody>\n",
       "    <tr>\n",
       "      <th>0</th>\n",
       "      <td>21868593</td>\n",
       "      <td>Female</td>\n",
       "      <td>1979-01-12</td>\n",
       "      <td>VT</td>\n",
       "      <td>789-916-8172</td>\n",
       "      <td>Platinum</td>\n",
       "      <td>54004764.0</td>\n",
       "      <td>Driver error</td>\n",
       "      <td>11/27/2017</td>\n",
       "      <td>Auto</td>\n",
       "      <td>No</td>\n",
       "      <td>Material only</td>\n",
       "      <td>$2980</td>\n",
       "      <td>1.0</td>\n",
       "      <td>No</td>\n",
       "    </tr>\n",
       "    <tr>\n",
       "      <th>1</th>\n",
       "      <td>75740424</td>\n",
       "      <td>Female</td>\n",
       "      <td>1970-01-13</td>\n",
       "      <td>ME</td>\n",
       "      <td>265-543-1264</td>\n",
       "      <td>Silver</td>\n",
       "      <td>33985796.0</td>\n",
       "      <td>Crime</td>\n",
       "      <td>10/03/2018</td>\n",
       "      <td>Home</td>\n",
       "      <td>Unknown</td>\n",
       "      <td>Material only</td>\n",
       "      <td>$2980</td>\n",
       "      <td>3.0</td>\n",
       "      <td>No</td>\n",
       "    </tr>\n",
       "    <tr>\n",
       "      <th>2</th>\n",
       "      <td>30308357</td>\n",
       "      <td>Female</td>\n",
       "      <td>1984-03-11</td>\n",
       "      <td>TN</td>\n",
       "      <td>798-631-4758</td>\n",
       "      <td>Silver</td>\n",
       "      <td>53522022.0</td>\n",
       "      <td>Other driver error</td>\n",
       "      <td>02/02/2018</td>\n",
       "      <td>Auto</td>\n",
       "      <td>No</td>\n",
       "      <td>Material only</td>\n",
       "      <td>$3369.5</td>\n",
       "      <td>1.0</td>\n",
       "      <td>Yes</td>\n",
       "    </tr>\n",
       "    <tr>\n",
       "      <th>3</th>\n",
       "      <td>30308357</td>\n",
       "      <td>Female</td>\n",
       "      <td>1984-03-11</td>\n",
       "      <td>TN</td>\n",
       "      <td>798-631-4758</td>\n",
       "      <td>Silver</td>\n",
       "      <td>63017412.0</td>\n",
       "      <td>Driver error</td>\n",
       "      <td>04/04/2018</td>\n",
       "      <td>Auto</td>\n",
       "      <td>No</td>\n",
       "      <td>Material only</td>\n",
       "      <td>$1950</td>\n",
       "      <td>6.0</td>\n",
       "      <td>No</td>\n",
       "    </tr>\n",
       "    <tr>\n",
       "      <th>4</th>\n",
       "      <td>47830476</td>\n",
       "      <td>Female</td>\n",
       "      <td>1986-05-01</td>\n",
       "      <td>MA</td>\n",
       "      <td>413-187-7945</td>\n",
       "      <td>Silver</td>\n",
       "      <td>13015401.0</td>\n",
       "      <td>Natural causes</td>\n",
       "      <td>06/17/2018</td>\n",
       "      <td>Auto</td>\n",
       "      <td>No</td>\n",
       "      <td>Material only</td>\n",
       "      <td>$1680</td>\n",
       "      <td>1.0</td>\n",
       "      <td>No</td>\n",
       "    </tr>\n",
       "    <tr>\n",
       "      <th>5</th>\n",
       "      <td>47830476</td>\n",
       "      <td>Female</td>\n",
       "      <td>1986-05-01</td>\n",
       "      <td>MA</td>\n",
       "      <td>413-187-7945</td>\n",
       "      <td>Silver</td>\n",
       "      <td>91609100.0</td>\n",
       "      <td>Natural causes</td>\n",
       "      <td>04/12/2017</td>\n",
       "      <td>Auto</td>\n",
       "      <td>Unknown</td>\n",
       "      <td>Material only</td>\n",
       "      <td>$1440</td>\n",
       "      <td>1.0</td>\n",
       "      <td>No</td>\n",
       "    </tr>\n",
       "    <tr>\n",
       "      <th>6</th>\n",
       "      <td>19269962</td>\n",
       "      <td>Male</td>\n",
       "      <td>1977-05-13</td>\n",
       "      <td>NV</td>\n",
       "      <td>956-871-8691</td>\n",
       "      <td>Gold</td>\n",
       "      <td>22890252.0</td>\n",
       "      <td>Crime</td>\n",
       "      <td>01/13/2018</td>\n",
       "      <td>Auto</td>\n",
       "      <td>No</td>\n",
       "      <td>Material only</td>\n",
       "      <td>$2680</td>\n",
       "      <td>1.0</td>\n",
       "      <td>No</td>\n",
       "    </tr>\n",
       "    <tr>\n",
       "      <th>7</th>\n",
       "      <td>19269962</td>\n",
       "      <td>Male</td>\n",
       "      <td>1977-05-13</td>\n",
       "      <td>NV</td>\n",
       "      <td>956-871-8691</td>\n",
       "      <td>Gold</td>\n",
       "      <td>39219616.0</td>\n",
       "      <td>Other causes</td>\n",
       "      <td>09/26/2018</td>\n",
       "      <td>Auto</td>\n",
       "      <td>No</td>\n",
       "      <td>Material only</td>\n",
       "      <td>$2240</td>\n",
       "      <td>2.0</td>\n",
       "      <td>No</td>\n",
       "    </tr>\n",
       "    <tr>\n",
       "      <th>8</th>\n",
       "      <td>21831191</td>\n",
       "      <td>Male</td>\n",
       "      <td>1977-05-17</td>\n",
       "      <td>NH</td>\n",
       "      <td>419-712-8513</td>\n",
       "      <td>Gold</td>\n",
       "      <td>24050443.0</td>\n",
       "      <td>Other driver error</td>\n",
       "      <td>10/04/2017</td>\n",
       "      <td>Auto</td>\n",
       "      <td>No</td>\n",
       "      <td>Injury only</td>\n",
       "      <td>$38306.5</td>\n",
       "      <td>3.0</td>\n",
       "      <td>Yes</td>\n",
       "    </tr>\n",
       "    <tr>\n",
       "      <th>9</th>\n",
       "      <td>21831191</td>\n",
       "      <td>Male</td>\n",
       "      <td>1977-05-17</td>\n",
       "      <td>NH</td>\n",
       "      <td>419-712-8513</td>\n",
       "      <td>Gold</td>\n",
       "      <td>91475471.0</td>\n",
       "      <td>Driver error</td>\n",
       "      <td>02/09/2018</td>\n",
       "      <td>Auto</td>\n",
       "      <td>Unknown</td>\n",
       "      <td>Material and injury</td>\n",
       "      <td>$36810</td>\n",
       "      <td>1.0</td>\n",
       "      <td>No</td>\n",
       "    </tr>\n",
       "    <tr>\n",
       "      <th>10</th>\n",
       "      <td>18401412</td>\n",
       "      <td>Male</td>\n",
       "      <td>1999-03-02</td>\n",
       "      <td>AR</td>\n",
       "      <td>752-398-2914</td>\n",
       "      <td>Gold</td>\n",
       "      <td>12878692.0</td>\n",
       "      <td>Driver error</td>\n",
       "      <td>01/13/2018</td>\n",
       "      <td>Auto</td>\n",
       "      <td>No</td>\n",
       "      <td>Material only</td>\n",
       "      <td>$1730</td>\n",
       "      <td>4.0</td>\n",
       "      <td>No</td>\n",
       "    </tr>\n",
       "    <tr>\n",
       "      <th>11</th>\n",
       "      <td>73486606</td>\n",
       "      <td>Male</td>\n",
       "      <td>1999-10-25</td>\n",
       "      <td>AK</td>\n",
       "      <td>256-968-9172</td>\n",
       "      <td>Silver</td>\n",
       "      <td>27026412.0</td>\n",
       "      <td>Natural causes</td>\n",
       "      <td>04/10/2018</td>\n",
       "      <td>Auto</td>\n",
       "      <td>No</td>\n",
       "      <td>Material only</td>\n",
       "      <td>$1160</td>\n",
       "      <td>3.0</td>\n",
       "      <td>No</td>\n",
       "    </tr>\n",
       "    <tr>\n",
       "      <th>12</th>\n",
       "      <td>32813689</td>\n",
       "      <td>Male</td>\n",
       "      <td>1993-10-12</td>\n",
       "      <td>ID</td>\n",
       "      <td>142-324-7481</td>\n",
       "      <td>Silver</td>\n",
       "      <td>43908336.0</td>\n",
       "      <td>Crime</td>\n",
       "      <td>02/15/2018</td>\n",
       "      <td>Auto</td>\n",
       "      <td>Unknown</td>\n",
       "      <td>Material only</td>\n",
       "      <td>$2620</td>\n",
       "      <td>1.0</td>\n",
       "      <td>No</td>\n",
       "    </tr>\n",
       "    <tr>\n",
       "      <th>13</th>\n",
       "      <td>33507197</td>\n",
       "      <td>Female</td>\n",
       "      <td>2066-09-09</td>\n",
       "      <td>RI</td>\n",
       "      <td>165-519-4583</td>\n",
       "      <td>Gold</td>\n",
       "      <td>63246959.0</td>\n",
       "      <td>Crime</td>\n",
       "      <td>07/22/2017</td>\n",
       "      <td>Auto</td>\n",
       "      <td>No</td>\n",
       "      <td>Material only</td>\n",
       "      <td>$2748.5</td>\n",
       "      <td>2.0</td>\n",
       "      <td>Yes</td>\n",
       "    </tr>\n",
       "    <tr>\n",
       "      <th>14</th>\n",
       "      <td>99103685</td>\n",
       "      <td>Female</td>\n",
       "      <td>1985-12-30</td>\n",
       "      <td>KY</td>\n",
       "      <td>764-439-9856</td>\n",
       "      <td>Gold</td>\n",
       "      <td>74165873.0</td>\n",
       "      <td>Other driver error</td>\n",
       "      <td>01/13/2018</td>\n",
       "      <td>Home</td>\n",
       "      <td>No</td>\n",
       "      <td>Material only</td>\n",
       "      <td>$1495</td>\n",
       "      <td>1.0</td>\n",
       "      <td>Yes</td>\n",
       "    </tr>\n",
       "    <tr>\n",
       "      <th>15</th>\n",
       "      <td>51583214</td>\n",
       "      <td>Male</td>\n",
       "      <td>1999-10-31</td>\n",
       "      <td>NH</td>\n",
       "      <td>743-486-5264</td>\n",
       "      <td>Platinum</td>\n",
       "      <td>28564401.0</td>\n",
       "      <td>Other driver error</td>\n",
       "      <td>12/10/2017</td>\n",
       "      <td>Auto</td>\n",
       "      <td>Unknown</td>\n",
       "      <td>Material and injury</td>\n",
       "      <td>$16690</td>\n",
       "      <td>1.0</td>\n",
       "      <td>No</td>\n",
       "    </tr>\n",
       "    <tr>\n",
       "      <th>16</th>\n",
       "      <td>35875366</td>\n",
       "      <td>Male</td>\n",
       "      <td>1990-09-16</td>\n",
       "      <td>MD</td>\n",
       "      <td>954-964-1746</td>\n",
       "      <td>Platinum</td>\n",
       "      <td>72738047.0</td>\n",
       "      <td>Other driver error</td>\n",
       "      <td>04/24/2018</td>\n",
       "      <td>Auto</td>\n",
       "      <td>Unknown</td>\n",
       "      <td>Material only</td>\n",
       "      <td>$1870</td>\n",
       "      <td>1.0</td>\n",
       "      <td>No</td>\n",
       "    </tr>\n",
       "    <tr>\n",
       "      <th>17</th>\n",
       "      <td>21240703</td>\n",
       "      <td>Male</td>\n",
       "      <td>2063-07-22</td>\n",
       "      <td>MD</td>\n",
       "      <td>473-561-2675</td>\n",
       "      <td>Silver</td>\n",
       "      <td>53780662.0</td>\n",
       "      <td>Other driver error</td>\n",
       "      <td>09/19/2018</td>\n",
       "      <td>Auto</td>\n",
       "      <td>Unknown</td>\n",
       "      <td>Material only</td>\n",
       "      <td>$1050</td>\n",
       "      <td>1.0</td>\n",
       "      <td>No</td>\n",
       "    </tr>\n",
       "    <tr>\n",
       "      <th>18</th>\n",
       "      <td>18288638</td>\n",
       "      <td>Female</td>\n",
       "      <td>1969-01-14</td>\n",
       "      <td>MI</td>\n",
       "      <td>314-135-1359</td>\n",
       "      <td>Platinum</td>\n",
       "      <td>67257404.0</td>\n",
       "      <td>Other driver error</td>\n",
       "      <td>04/24/2018</td>\n",
       "      <td>Auto</td>\n",
       "      <td>Yes</td>\n",
       "      <td>Injury only</td>\n",
       "      <td>$32560</td>\n",
       "      <td>1.0</td>\n",
       "      <td>No</td>\n",
       "    </tr>\n",
       "    <tr>\n",
       "      <th>19</th>\n",
       "      <td>63240241</td>\n",
       "      <td>Male</td>\n",
       "      <td>1977-07-26</td>\n",
       "      <td>ME</td>\n",
       "      <td>843-379-4796</td>\n",
       "      <td>Silver</td>\n",
       "      <td>35489765.0</td>\n",
       "      <td>Natural causes</td>\n",
       "      <td>10/03/2018</td>\n",
       "      <td>Auto</td>\n",
       "      <td>No</td>\n",
       "      <td>Material only</td>\n",
       "      <td>$2870</td>\n",
       "      <td>1.0</td>\n",
       "      <td>No</td>\n",
       "    </tr>\n",
       "  </tbody>\n",
       "</table>\n",
       "</div>"
      ],
      "text/plain": [
       "     CUST_ID  gender DateOfBirth State       Contact   Segment    claim_id  \\\n",
       "0   21868593  Female  1979-01-12    VT  789-916-8172  Platinum  54004764.0   \n",
       "1   75740424  Female  1970-01-13    ME  265-543-1264    Silver  33985796.0   \n",
       "2   30308357  Female  1984-03-11    TN  798-631-4758    Silver  53522022.0   \n",
       "3   30308357  Female  1984-03-11    TN  798-631-4758    Silver  63017412.0   \n",
       "4   47830476  Female  1986-05-01    MA  413-187-7945    Silver  13015401.0   \n",
       "5   47830476  Female  1986-05-01    MA  413-187-7945    Silver  91609100.0   \n",
       "6   19269962    Male  1977-05-13    NV  956-871-8691      Gold  22890252.0   \n",
       "7   19269962    Male  1977-05-13    NV  956-871-8691      Gold  39219616.0   \n",
       "8   21831191    Male  1977-05-17    NH  419-712-8513      Gold  24050443.0   \n",
       "9   21831191    Male  1977-05-17    NH  419-712-8513      Gold  91475471.0   \n",
       "10  18401412    Male  1999-03-02    AR  752-398-2914      Gold  12878692.0   \n",
       "11  73486606    Male  1999-10-25    AK  256-968-9172    Silver  27026412.0   \n",
       "12  32813689    Male  1993-10-12    ID  142-324-7481    Silver  43908336.0   \n",
       "13  33507197  Female  2066-09-09    RI  165-519-4583      Gold  63246959.0   \n",
       "14  99103685  Female  1985-12-30    KY  764-439-9856      Gold  74165873.0   \n",
       "15  51583214    Male  1999-10-31    NH  743-486-5264  Platinum  28564401.0   \n",
       "16  35875366    Male  1990-09-16    MD  954-964-1746  Platinum  72738047.0   \n",
       "17  21240703    Male  2063-07-22    MD  473-561-2675    Silver  53780662.0   \n",
       "18  18288638  Female  1969-01-14    MI  314-135-1359  Platinum  67257404.0   \n",
       "19  63240241    Male  1977-07-26    ME  843-379-4796    Silver  35489765.0   \n",
       "\n",
       "        incident_cause  claim_date claim_area police_report  \\\n",
       "0         Driver error  11/27/2017       Auto            No   \n",
       "1                Crime  10/03/2018       Home       Unknown   \n",
       "2   Other driver error  02/02/2018       Auto            No   \n",
       "3         Driver error  04/04/2018       Auto            No   \n",
       "4       Natural causes  06/17/2018       Auto            No   \n",
       "5       Natural causes  04/12/2017       Auto       Unknown   \n",
       "6                Crime  01/13/2018       Auto            No   \n",
       "7         Other causes  09/26/2018       Auto            No   \n",
       "8   Other driver error  10/04/2017       Auto            No   \n",
       "9         Driver error  02/09/2018       Auto       Unknown   \n",
       "10        Driver error  01/13/2018       Auto            No   \n",
       "11      Natural causes  04/10/2018       Auto            No   \n",
       "12               Crime  02/15/2018       Auto       Unknown   \n",
       "13               Crime  07/22/2017       Auto            No   \n",
       "14  Other driver error  01/13/2018       Home            No   \n",
       "15  Other driver error  12/10/2017       Auto       Unknown   \n",
       "16  Other driver error  04/24/2018       Auto       Unknown   \n",
       "17  Other driver error  09/19/2018       Auto       Unknown   \n",
       "18  Other driver error  04/24/2018       Auto           Yes   \n",
       "19      Natural causes  10/03/2018       Auto            No   \n",
       "\n",
       "             claim_type claim_amount  total_policy_claims fraudulent  \n",
       "0         Material only        $2980                  1.0         No  \n",
       "1         Material only        $2980                  3.0         No  \n",
       "2         Material only      $3369.5                  1.0        Yes  \n",
       "3         Material only        $1950                  6.0         No  \n",
       "4         Material only        $1680                  1.0         No  \n",
       "5         Material only        $1440                  1.0         No  \n",
       "6         Material only        $2680                  1.0         No  \n",
       "7         Material only        $2240                  2.0         No  \n",
       "8           Injury only     $38306.5                  3.0        Yes  \n",
       "9   Material and injury       $36810                  1.0         No  \n",
       "10        Material only        $1730                  4.0         No  \n",
       "11        Material only        $1160                  3.0         No  \n",
       "12        Material only        $2620                  1.0         No  \n",
       "13        Material only      $2748.5                  2.0        Yes  \n",
       "14        Material only        $1495                  1.0        Yes  \n",
       "15  Material and injury       $16690                  1.0         No  \n",
       "16        Material only        $1870                  1.0         No  \n",
       "17        Material only        $1050                  1.0         No  \n",
       "18          Injury only       $32560                  1.0         No  \n",
       "19        Material only        $2870                  1.0         No  "
      ]
     },
     "execution_count": 13,
     "metadata": {},
     "output_type": "execute_result"
    }
   ],
   "source": [
    "cust_claim.head(20)"
   ]
  },
  {
   "cell_type": "code",
   "execution_count": 8,
   "id": "d1232653",
   "metadata": {},
   "outputs": [],
   "source": [
    "cust_claim.drop('customer_id', axis=1, inplace=True)"
   ]
  },
  {
   "cell_type": "markdown",
   "id": "005f54c3",
   "metadata": {},
   "source": [
    "# 2.  Perform a data audit for the datatypes and find out if there are any mismatch within the current datatypes of the columns and their business significance.\n"
   ]
  },
  {
   "cell_type": "code",
   "execution_count": 9,
   "id": "2d15b143",
   "metadata": {},
   "outputs": [
    {
     "name": "stdout",
     "output_type": "stream",
     "text": [
      "<class 'pandas.core.frame.DataFrame'>\n",
      "RangeIndex: 1092 entries, 0 to 1091\n",
      "Data columns (total 15 columns):\n",
      " #   Column               Non-Null Count  Dtype  \n",
      "---  ------               --------------  -----  \n",
      " 0   CUST_ID              1092 non-null   int64  \n",
      " 1   gender               1092 non-null   object \n",
      " 2   DateOfBirth          1092 non-null   object \n",
      " 3   State                1092 non-null   object \n",
      " 4   Contact              1092 non-null   object \n",
      " 5   Segment              1092 non-null   object \n",
      " 6   claim_id             1085 non-null   float64\n",
      " 7   incident_cause       1085 non-null   object \n",
      " 8   claim_date           1085 non-null   object \n",
      " 9   claim_area           1085 non-null   object \n",
      " 10  police_report        1085 non-null   object \n",
      " 11  claim_type           1085 non-null   object \n",
      " 12  claim_amount         1020 non-null   object \n",
      " 13  total_policy_claims  1075 non-null   float64\n",
      " 14  fraudulent           1085 non-null   object \n",
      "dtypes: float64(2), int64(1), object(12)\n",
      "memory usage: 128.1+ KB\n"
     ]
    }
   ],
   "source": [
    "cust_claim.info()"
   ]
  },
  {
   "cell_type": "code",
   "execution_count": 14,
   "id": "53657420",
   "metadata": {},
   "outputs": [],
   "source": [
    "cust_claim.DateOfBirth=pd.to_datetime(cust_claim.DateOfBirth, format=\"%d-%b-%y\")\n",
    "cust_claim.claim_date= pd.to_datetime(cust_claim.claim_date, format='mixed')"
   ]
  },
  {
   "cell_type": "code",
   "execution_count": 17,
   "id": "cd03b9a3",
   "metadata": {},
   "outputs": [
    {
     "data": {
      "text/plain": [
       "Timestamp('2068-12-19 00:00:00')"
      ]
     },
     "execution_count": 17,
     "metadata": {},
     "output_type": "execute_result"
    }
   ],
   "source": [
    "cust_claim.DateOfBirth.max()"
   ]
  },
  {
   "cell_type": "code",
   "execution_count": 19,
   "id": "d836a2c8",
   "metadata": {},
   "outputs": [],
   "source": [
    "cust_claim.DateOfBirth= np.where(cust_claim.DateOfBirth.dt.year >2000, cust_claim.DateOfBirth-pd.DateOffset(years=100), cust_claim.DateOfBirth)"
   ]
  },
  {
   "cell_type": "code",
   "execution_count": 21,
   "id": "002c07a4",
   "metadata": {},
   "outputs": [
    {
     "data": {
      "text/html": [
       "<div>\n",
       "<style scoped>\n",
       "    .dataframe tbody tr th:only-of-type {\n",
       "        vertical-align: middle;\n",
       "    }\n",
       "\n",
       "    .dataframe tbody tr th {\n",
       "        vertical-align: top;\n",
       "    }\n",
       "\n",
       "    .dataframe thead th {\n",
       "        text-align: right;\n",
       "    }\n",
       "</style>\n",
       "<table border=\"1\" class=\"dataframe\">\n",
       "  <thead>\n",
       "    <tr style=\"text-align: right;\">\n",
       "      <th></th>\n",
       "      <th>CUST_ID</th>\n",
       "      <th>gender</th>\n",
       "      <th>DateOfBirth</th>\n",
       "      <th>State</th>\n",
       "      <th>Contact</th>\n",
       "      <th>Segment</th>\n",
       "      <th>claim_id</th>\n",
       "      <th>incident_cause</th>\n",
       "      <th>claim_date</th>\n",
       "      <th>claim_area</th>\n",
       "      <th>police_report</th>\n",
       "      <th>claim_type</th>\n",
       "      <th>claim_amount</th>\n",
       "      <th>total_policy_claims</th>\n",
       "      <th>fraudulent</th>\n",
       "    </tr>\n",
       "  </thead>\n",
       "  <tbody>\n",
       "    <tr>\n",
       "      <th>0</th>\n",
       "      <td>21868593</td>\n",
       "      <td>Female</td>\n",
       "      <td>1979-01-12</td>\n",
       "      <td>VT</td>\n",
       "      <td>789-916-8172</td>\n",
       "      <td>Platinum</td>\n",
       "      <td>54004764.0</td>\n",
       "      <td>Driver error</td>\n",
       "      <td>2017-11-27</td>\n",
       "      <td>Auto</td>\n",
       "      <td>No</td>\n",
       "      <td>Material only</td>\n",
       "      <td>$2980</td>\n",
       "      <td>1.0</td>\n",
       "      <td>No</td>\n",
       "    </tr>\n",
       "    <tr>\n",
       "      <th>1</th>\n",
       "      <td>75740424</td>\n",
       "      <td>Female</td>\n",
       "      <td>1970-01-13</td>\n",
       "      <td>ME</td>\n",
       "      <td>265-543-1264</td>\n",
       "      <td>Silver</td>\n",
       "      <td>33985796.0</td>\n",
       "      <td>Crime</td>\n",
       "      <td>2018-10-03</td>\n",
       "      <td>Home</td>\n",
       "      <td>Unknown</td>\n",
       "      <td>Material only</td>\n",
       "      <td>$2980</td>\n",
       "      <td>3.0</td>\n",
       "      <td>No</td>\n",
       "    </tr>\n",
       "    <tr>\n",
       "      <th>2</th>\n",
       "      <td>30308357</td>\n",
       "      <td>Female</td>\n",
       "      <td>1984-03-11</td>\n",
       "      <td>TN</td>\n",
       "      <td>798-631-4758</td>\n",
       "      <td>Silver</td>\n",
       "      <td>53522022.0</td>\n",
       "      <td>Other driver error</td>\n",
       "      <td>2018-02-02</td>\n",
       "      <td>Auto</td>\n",
       "      <td>No</td>\n",
       "      <td>Material only</td>\n",
       "      <td>$3369.5</td>\n",
       "      <td>1.0</td>\n",
       "      <td>Yes</td>\n",
       "    </tr>\n",
       "    <tr>\n",
       "      <th>3</th>\n",
       "      <td>30308357</td>\n",
       "      <td>Female</td>\n",
       "      <td>1984-03-11</td>\n",
       "      <td>TN</td>\n",
       "      <td>798-631-4758</td>\n",
       "      <td>Silver</td>\n",
       "      <td>63017412.0</td>\n",
       "      <td>Driver error</td>\n",
       "      <td>2018-04-04</td>\n",
       "      <td>Auto</td>\n",
       "      <td>No</td>\n",
       "      <td>Material only</td>\n",
       "      <td>$1950</td>\n",
       "      <td>6.0</td>\n",
       "      <td>No</td>\n",
       "    </tr>\n",
       "    <tr>\n",
       "      <th>4</th>\n",
       "      <td>47830476</td>\n",
       "      <td>Female</td>\n",
       "      <td>1986-05-01</td>\n",
       "      <td>MA</td>\n",
       "      <td>413-187-7945</td>\n",
       "      <td>Silver</td>\n",
       "      <td>13015401.0</td>\n",
       "      <td>Natural causes</td>\n",
       "      <td>2018-06-17</td>\n",
       "      <td>Auto</td>\n",
       "      <td>No</td>\n",
       "      <td>Material only</td>\n",
       "      <td>$1680</td>\n",
       "      <td>1.0</td>\n",
       "      <td>No</td>\n",
       "    </tr>\n",
       "    <tr>\n",
       "      <th>5</th>\n",
       "      <td>47830476</td>\n",
       "      <td>Female</td>\n",
       "      <td>1986-05-01</td>\n",
       "      <td>MA</td>\n",
       "      <td>413-187-7945</td>\n",
       "      <td>Silver</td>\n",
       "      <td>91609100.0</td>\n",
       "      <td>Natural causes</td>\n",
       "      <td>2017-04-12</td>\n",
       "      <td>Auto</td>\n",
       "      <td>Unknown</td>\n",
       "      <td>Material only</td>\n",
       "      <td>$1440</td>\n",
       "      <td>1.0</td>\n",
       "      <td>No</td>\n",
       "    </tr>\n",
       "    <tr>\n",
       "      <th>6</th>\n",
       "      <td>19269962</td>\n",
       "      <td>Male</td>\n",
       "      <td>1977-05-13</td>\n",
       "      <td>NV</td>\n",
       "      <td>956-871-8691</td>\n",
       "      <td>Gold</td>\n",
       "      <td>22890252.0</td>\n",
       "      <td>Crime</td>\n",
       "      <td>2018-01-13</td>\n",
       "      <td>Auto</td>\n",
       "      <td>No</td>\n",
       "      <td>Material only</td>\n",
       "      <td>$2680</td>\n",
       "      <td>1.0</td>\n",
       "      <td>No</td>\n",
       "    </tr>\n",
       "    <tr>\n",
       "      <th>7</th>\n",
       "      <td>19269962</td>\n",
       "      <td>Male</td>\n",
       "      <td>1977-05-13</td>\n",
       "      <td>NV</td>\n",
       "      <td>956-871-8691</td>\n",
       "      <td>Gold</td>\n",
       "      <td>39219616.0</td>\n",
       "      <td>Other causes</td>\n",
       "      <td>2018-09-26</td>\n",
       "      <td>Auto</td>\n",
       "      <td>No</td>\n",
       "      <td>Material only</td>\n",
       "      <td>$2240</td>\n",
       "      <td>2.0</td>\n",
       "      <td>No</td>\n",
       "    </tr>\n",
       "    <tr>\n",
       "      <th>8</th>\n",
       "      <td>21831191</td>\n",
       "      <td>Male</td>\n",
       "      <td>1977-05-17</td>\n",
       "      <td>NH</td>\n",
       "      <td>419-712-8513</td>\n",
       "      <td>Gold</td>\n",
       "      <td>24050443.0</td>\n",
       "      <td>Other driver error</td>\n",
       "      <td>2017-10-04</td>\n",
       "      <td>Auto</td>\n",
       "      <td>No</td>\n",
       "      <td>Injury only</td>\n",
       "      <td>$38306.5</td>\n",
       "      <td>3.0</td>\n",
       "      <td>Yes</td>\n",
       "    </tr>\n",
       "    <tr>\n",
       "      <th>9</th>\n",
       "      <td>21831191</td>\n",
       "      <td>Male</td>\n",
       "      <td>1977-05-17</td>\n",
       "      <td>NH</td>\n",
       "      <td>419-712-8513</td>\n",
       "      <td>Gold</td>\n",
       "      <td>91475471.0</td>\n",
       "      <td>Driver error</td>\n",
       "      <td>2018-02-09</td>\n",
       "      <td>Auto</td>\n",
       "      <td>Unknown</td>\n",
       "      <td>Material and injury</td>\n",
       "      <td>$36810</td>\n",
       "      <td>1.0</td>\n",
       "      <td>No</td>\n",
       "    </tr>\n",
       "    <tr>\n",
       "      <th>10</th>\n",
       "      <td>18401412</td>\n",
       "      <td>Male</td>\n",
       "      <td>1999-03-02</td>\n",
       "      <td>AR</td>\n",
       "      <td>752-398-2914</td>\n",
       "      <td>Gold</td>\n",
       "      <td>12878692.0</td>\n",
       "      <td>Driver error</td>\n",
       "      <td>2018-01-13</td>\n",
       "      <td>Auto</td>\n",
       "      <td>No</td>\n",
       "      <td>Material only</td>\n",
       "      <td>$1730</td>\n",
       "      <td>4.0</td>\n",
       "      <td>No</td>\n",
       "    </tr>\n",
       "    <tr>\n",
       "      <th>11</th>\n",
       "      <td>73486606</td>\n",
       "      <td>Male</td>\n",
       "      <td>1999-10-25</td>\n",
       "      <td>AK</td>\n",
       "      <td>256-968-9172</td>\n",
       "      <td>Silver</td>\n",
       "      <td>27026412.0</td>\n",
       "      <td>Natural causes</td>\n",
       "      <td>2018-04-10</td>\n",
       "      <td>Auto</td>\n",
       "      <td>No</td>\n",
       "      <td>Material only</td>\n",
       "      <td>$1160</td>\n",
       "      <td>3.0</td>\n",
       "      <td>No</td>\n",
       "    </tr>\n",
       "    <tr>\n",
       "      <th>12</th>\n",
       "      <td>32813689</td>\n",
       "      <td>Male</td>\n",
       "      <td>1993-10-12</td>\n",
       "      <td>ID</td>\n",
       "      <td>142-324-7481</td>\n",
       "      <td>Silver</td>\n",
       "      <td>43908336.0</td>\n",
       "      <td>Crime</td>\n",
       "      <td>2018-02-15</td>\n",
       "      <td>Auto</td>\n",
       "      <td>Unknown</td>\n",
       "      <td>Material only</td>\n",
       "      <td>$2620</td>\n",
       "      <td>1.0</td>\n",
       "      <td>No</td>\n",
       "    </tr>\n",
       "    <tr>\n",
       "      <th>13</th>\n",
       "      <td>33507197</td>\n",
       "      <td>Female</td>\n",
       "      <td>1966-09-09</td>\n",
       "      <td>RI</td>\n",
       "      <td>165-519-4583</td>\n",
       "      <td>Gold</td>\n",
       "      <td>63246959.0</td>\n",
       "      <td>Crime</td>\n",
       "      <td>2017-07-22</td>\n",
       "      <td>Auto</td>\n",
       "      <td>No</td>\n",
       "      <td>Material only</td>\n",
       "      <td>$2748.5</td>\n",
       "      <td>2.0</td>\n",
       "      <td>Yes</td>\n",
       "    </tr>\n",
       "    <tr>\n",
       "      <th>14</th>\n",
       "      <td>99103685</td>\n",
       "      <td>Female</td>\n",
       "      <td>1985-12-30</td>\n",
       "      <td>KY</td>\n",
       "      <td>764-439-9856</td>\n",
       "      <td>Gold</td>\n",
       "      <td>74165873.0</td>\n",
       "      <td>Other driver error</td>\n",
       "      <td>2018-01-13</td>\n",
       "      <td>Home</td>\n",
       "      <td>No</td>\n",
       "      <td>Material only</td>\n",
       "      <td>$1495</td>\n",
       "      <td>1.0</td>\n",
       "      <td>Yes</td>\n",
       "    </tr>\n",
       "    <tr>\n",
       "      <th>15</th>\n",
       "      <td>51583214</td>\n",
       "      <td>Male</td>\n",
       "      <td>1999-10-31</td>\n",
       "      <td>NH</td>\n",
       "      <td>743-486-5264</td>\n",
       "      <td>Platinum</td>\n",
       "      <td>28564401.0</td>\n",
       "      <td>Other driver error</td>\n",
       "      <td>2017-12-10</td>\n",
       "      <td>Auto</td>\n",
       "      <td>Unknown</td>\n",
       "      <td>Material and injury</td>\n",
       "      <td>$16690</td>\n",
       "      <td>1.0</td>\n",
       "      <td>No</td>\n",
       "    </tr>\n",
       "    <tr>\n",
       "      <th>16</th>\n",
       "      <td>35875366</td>\n",
       "      <td>Male</td>\n",
       "      <td>1990-09-16</td>\n",
       "      <td>MD</td>\n",
       "      <td>954-964-1746</td>\n",
       "      <td>Platinum</td>\n",
       "      <td>72738047.0</td>\n",
       "      <td>Other driver error</td>\n",
       "      <td>2018-04-24</td>\n",
       "      <td>Auto</td>\n",
       "      <td>Unknown</td>\n",
       "      <td>Material only</td>\n",
       "      <td>$1870</td>\n",
       "      <td>1.0</td>\n",
       "      <td>No</td>\n",
       "    </tr>\n",
       "    <tr>\n",
       "      <th>17</th>\n",
       "      <td>21240703</td>\n",
       "      <td>Male</td>\n",
       "      <td>1963-07-22</td>\n",
       "      <td>MD</td>\n",
       "      <td>473-561-2675</td>\n",
       "      <td>Silver</td>\n",
       "      <td>53780662.0</td>\n",
       "      <td>Other driver error</td>\n",
       "      <td>2018-09-19</td>\n",
       "      <td>Auto</td>\n",
       "      <td>Unknown</td>\n",
       "      <td>Material only</td>\n",
       "      <td>$1050</td>\n",
       "      <td>1.0</td>\n",
       "      <td>No</td>\n",
       "    </tr>\n",
       "    <tr>\n",
       "      <th>18</th>\n",
       "      <td>18288638</td>\n",
       "      <td>Female</td>\n",
       "      <td>1969-01-14</td>\n",
       "      <td>MI</td>\n",
       "      <td>314-135-1359</td>\n",
       "      <td>Platinum</td>\n",
       "      <td>67257404.0</td>\n",
       "      <td>Other driver error</td>\n",
       "      <td>2018-04-24</td>\n",
       "      <td>Auto</td>\n",
       "      <td>Yes</td>\n",
       "      <td>Injury only</td>\n",
       "      <td>$32560</td>\n",
       "      <td>1.0</td>\n",
       "      <td>No</td>\n",
       "    </tr>\n",
       "    <tr>\n",
       "      <th>19</th>\n",
       "      <td>63240241</td>\n",
       "      <td>Male</td>\n",
       "      <td>1977-07-26</td>\n",
       "      <td>ME</td>\n",
       "      <td>843-379-4796</td>\n",
       "      <td>Silver</td>\n",
       "      <td>35489765.0</td>\n",
       "      <td>Natural causes</td>\n",
       "      <td>2018-10-03</td>\n",
       "      <td>Auto</td>\n",
       "      <td>No</td>\n",
       "      <td>Material only</td>\n",
       "      <td>$2870</td>\n",
       "      <td>1.0</td>\n",
       "      <td>No</td>\n",
       "    </tr>\n",
       "  </tbody>\n",
       "</table>\n",
       "</div>"
      ],
      "text/plain": [
       "     CUST_ID  gender DateOfBirth State       Contact   Segment    claim_id  \\\n",
       "0   21868593  Female  1979-01-12    VT  789-916-8172  Platinum  54004764.0   \n",
       "1   75740424  Female  1970-01-13    ME  265-543-1264    Silver  33985796.0   \n",
       "2   30308357  Female  1984-03-11    TN  798-631-4758    Silver  53522022.0   \n",
       "3   30308357  Female  1984-03-11    TN  798-631-4758    Silver  63017412.0   \n",
       "4   47830476  Female  1986-05-01    MA  413-187-7945    Silver  13015401.0   \n",
       "5   47830476  Female  1986-05-01    MA  413-187-7945    Silver  91609100.0   \n",
       "6   19269962    Male  1977-05-13    NV  956-871-8691      Gold  22890252.0   \n",
       "7   19269962    Male  1977-05-13    NV  956-871-8691      Gold  39219616.0   \n",
       "8   21831191    Male  1977-05-17    NH  419-712-8513      Gold  24050443.0   \n",
       "9   21831191    Male  1977-05-17    NH  419-712-8513      Gold  91475471.0   \n",
       "10  18401412    Male  1999-03-02    AR  752-398-2914      Gold  12878692.0   \n",
       "11  73486606    Male  1999-10-25    AK  256-968-9172    Silver  27026412.0   \n",
       "12  32813689    Male  1993-10-12    ID  142-324-7481    Silver  43908336.0   \n",
       "13  33507197  Female  1966-09-09    RI  165-519-4583      Gold  63246959.0   \n",
       "14  99103685  Female  1985-12-30    KY  764-439-9856      Gold  74165873.0   \n",
       "15  51583214    Male  1999-10-31    NH  743-486-5264  Platinum  28564401.0   \n",
       "16  35875366    Male  1990-09-16    MD  954-964-1746  Platinum  72738047.0   \n",
       "17  21240703    Male  1963-07-22    MD  473-561-2675    Silver  53780662.0   \n",
       "18  18288638  Female  1969-01-14    MI  314-135-1359  Platinum  67257404.0   \n",
       "19  63240241    Male  1977-07-26    ME  843-379-4796    Silver  35489765.0   \n",
       "\n",
       "        incident_cause claim_date claim_area police_report  \\\n",
       "0         Driver error 2017-11-27       Auto            No   \n",
       "1                Crime 2018-10-03       Home       Unknown   \n",
       "2   Other driver error 2018-02-02       Auto            No   \n",
       "3         Driver error 2018-04-04       Auto            No   \n",
       "4       Natural causes 2018-06-17       Auto            No   \n",
       "5       Natural causes 2017-04-12       Auto       Unknown   \n",
       "6                Crime 2018-01-13       Auto            No   \n",
       "7         Other causes 2018-09-26       Auto            No   \n",
       "8   Other driver error 2017-10-04       Auto            No   \n",
       "9         Driver error 2018-02-09       Auto       Unknown   \n",
       "10        Driver error 2018-01-13       Auto            No   \n",
       "11      Natural causes 2018-04-10       Auto            No   \n",
       "12               Crime 2018-02-15       Auto       Unknown   \n",
       "13               Crime 2017-07-22       Auto            No   \n",
       "14  Other driver error 2018-01-13       Home            No   \n",
       "15  Other driver error 2017-12-10       Auto       Unknown   \n",
       "16  Other driver error 2018-04-24       Auto       Unknown   \n",
       "17  Other driver error 2018-09-19       Auto       Unknown   \n",
       "18  Other driver error 2018-04-24       Auto           Yes   \n",
       "19      Natural causes 2018-10-03       Auto            No   \n",
       "\n",
       "             claim_type claim_amount  total_policy_claims fraudulent  \n",
       "0         Material only        $2980                  1.0         No  \n",
       "1         Material only        $2980                  3.0         No  \n",
       "2         Material only      $3369.5                  1.0        Yes  \n",
       "3         Material only        $1950                  6.0         No  \n",
       "4         Material only        $1680                  1.0         No  \n",
       "5         Material only        $1440                  1.0         No  \n",
       "6         Material only        $2680                  1.0         No  \n",
       "7         Material only        $2240                  2.0         No  \n",
       "8           Injury only     $38306.5                  3.0        Yes  \n",
       "9   Material and injury       $36810                  1.0         No  \n",
       "10        Material only        $1730                  4.0         No  \n",
       "11        Material only        $1160                  3.0         No  \n",
       "12        Material only        $2620                  1.0         No  \n",
       "13        Material only      $2748.5                  2.0        Yes  \n",
       "14        Material only        $1495                  1.0        Yes  \n",
       "15  Material and injury       $16690                  1.0         No  \n",
       "16        Material only        $1870                  1.0         No  \n",
       "17        Material only        $1050                  1.0         No  \n",
       "18          Injury only       $32560                  1.0         No  \n",
       "19        Material only        $2870                  1.0         No  "
      ]
     },
     "execution_count": 21,
     "metadata": {},
     "output_type": "execute_result"
    }
   ],
   "source": [
    "cust_claim.head(20)"
   ]
  },
  {
   "cell_type": "markdown",
   "id": "5a9a3fce",
   "metadata": {},
   "source": [
    "# 3. Convert the column claim_amount to numeric. Use the appropriate modules/attributes to remove the $ sign."
   ]
  },
  {
   "cell_type": "code",
   "execution_count": 22,
   "id": "de04237e",
   "metadata": {},
   "outputs": [],
   "source": [
    "cust_claim.Contact=pd.to_numeric(cust_claim.Contact.str.replace(\"-\", \"\"), downcast='integer')\n",
    "cust_claim.claim_amount= pd.to_numeric(cust_claim.claim_amount.str.replace(\"$\",\"\"), downcast='float')"
   ]
  },
  {
   "cell_type": "code",
   "execution_count": 23,
   "id": "f07c8f93",
   "metadata": {},
   "outputs": [
    {
     "name": "stdout",
     "output_type": "stream",
     "text": [
      "<class 'pandas.core.frame.DataFrame'>\n",
      "RangeIndex: 1092 entries, 0 to 1091\n",
      "Data columns (total 15 columns):\n",
      " #   Column               Non-Null Count  Dtype         \n",
      "---  ------               --------------  -----         \n",
      " 0   CUST_ID              1092 non-null   int64         \n",
      " 1   gender               1092 non-null   object        \n",
      " 2   DateOfBirth          1092 non-null   datetime64[ns]\n",
      " 3   State                1092 non-null   object        \n",
      " 4   Contact              1092 non-null   int64         \n",
      " 5   Segment              1092 non-null   object        \n",
      " 6   claim_id             1085 non-null   float64       \n",
      " 7   incident_cause       1085 non-null   object        \n",
      " 8   claim_date           1085 non-null   datetime64[ns]\n",
      " 9   claim_area           1085 non-null   object        \n",
      " 10  police_report        1085 non-null   object        \n",
      " 11  claim_type           1085 non-null   object        \n",
      " 12  claim_amount         1020 non-null   float32       \n",
      " 13  total_policy_claims  1075 non-null   float64       \n",
      " 14  fraudulent           1085 non-null   object        \n",
      "dtypes: datetime64[ns](2), float32(1), float64(2), int64(2), object(8)\n",
      "memory usage: 123.8+ KB\n"
     ]
    }
   ],
   "source": [
    "cust_claim.info()"
   ]
  },
  {
   "cell_type": "markdown",
   "id": "65ea4b43",
   "metadata": {},
   "source": [
    "# 4. Of all the injury claims, some of them have gone unreported with the police. Create an alert flag (1,0) for all such claims."
   ]
  },
  {
   "cell_type": "code",
   "execution_count": 24,
   "id": "2e732d34",
   "metadata": {},
   "outputs": [
    {
     "data": {
      "text/plain": [
       "array(['No', 'Unknown', 'Yes', nan], dtype=object)"
      ]
     },
     "execution_count": 24,
     "metadata": {},
     "output_type": "execute_result"
    }
   ],
   "source": [
    "cust_claim.police_report.unique()"
   ]
  },
  {
   "cell_type": "code",
   "execution_count": 25,
   "id": "902432aa",
   "metadata": {},
   "outputs": [],
   "source": [
    "cust_claim['alert_flag']=np.where(cust_claim.police_report =='No',0, np.where(cust_claim.police_report=='Yes',1,np.nan))"
   ]
  },
  {
   "cell_type": "code",
   "execution_count": 26,
   "id": "eab18fe1",
   "metadata": {},
   "outputs": [
    {
     "data": {
      "text/html": [
       "<div>\n",
       "<style scoped>\n",
       "    .dataframe tbody tr th:only-of-type {\n",
       "        vertical-align: middle;\n",
       "    }\n",
       "\n",
       "    .dataframe tbody tr th {\n",
       "        vertical-align: top;\n",
       "    }\n",
       "\n",
       "    .dataframe thead th {\n",
       "        text-align: right;\n",
       "    }\n",
       "</style>\n",
       "<table border=\"1\" class=\"dataframe\">\n",
       "  <thead>\n",
       "    <tr style=\"text-align: right;\">\n",
       "      <th></th>\n",
       "      <th>CUST_ID</th>\n",
       "      <th>gender</th>\n",
       "      <th>DateOfBirth</th>\n",
       "      <th>State</th>\n",
       "      <th>Contact</th>\n",
       "      <th>Segment</th>\n",
       "      <th>claim_id</th>\n",
       "      <th>incident_cause</th>\n",
       "      <th>claim_date</th>\n",
       "      <th>claim_area</th>\n",
       "      <th>police_report</th>\n",
       "      <th>claim_type</th>\n",
       "      <th>claim_amount</th>\n",
       "      <th>total_policy_claims</th>\n",
       "      <th>fraudulent</th>\n",
       "      <th>alert_flag</th>\n",
       "    </tr>\n",
       "  </thead>\n",
       "  <tbody>\n",
       "    <tr>\n",
       "      <th>0</th>\n",
       "      <td>21868593</td>\n",
       "      <td>Female</td>\n",
       "      <td>1979-01-12</td>\n",
       "      <td>VT</td>\n",
       "      <td>7899168172</td>\n",
       "      <td>Platinum</td>\n",
       "      <td>54004764.0</td>\n",
       "      <td>Driver error</td>\n",
       "      <td>2017-11-27</td>\n",
       "      <td>Auto</td>\n",
       "      <td>No</td>\n",
       "      <td>Material only</td>\n",
       "      <td>2980.0</td>\n",
       "      <td>1.0</td>\n",
       "      <td>No</td>\n",
       "      <td>0.0</td>\n",
       "    </tr>\n",
       "    <tr>\n",
       "      <th>1</th>\n",
       "      <td>75740424</td>\n",
       "      <td>Female</td>\n",
       "      <td>1970-01-13</td>\n",
       "      <td>ME</td>\n",
       "      <td>2655431264</td>\n",
       "      <td>Silver</td>\n",
       "      <td>33985796.0</td>\n",
       "      <td>Crime</td>\n",
       "      <td>2018-10-03</td>\n",
       "      <td>Home</td>\n",
       "      <td>Unknown</td>\n",
       "      <td>Material only</td>\n",
       "      <td>2980.0</td>\n",
       "      <td>3.0</td>\n",
       "      <td>No</td>\n",
       "      <td>NaN</td>\n",
       "    </tr>\n",
       "    <tr>\n",
       "      <th>2</th>\n",
       "      <td>30308357</td>\n",
       "      <td>Female</td>\n",
       "      <td>1984-03-11</td>\n",
       "      <td>TN</td>\n",
       "      <td>7986314758</td>\n",
       "      <td>Silver</td>\n",
       "      <td>53522022.0</td>\n",
       "      <td>Other driver error</td>\n",
       "      <td>2018-02-02</td>\n",
       "      <td>Auto</td>\n",
       "      <td>No</td>\n",
       "      <td>Material only</td>\n",
       "      <td>3369.5</td>\n",
       "      <td>1.0</td>\n",
       "      <td>Yes</td>\n",
       "      <td>0.0</td>\n",
       "    </tr>\n",
       "    <tr>\n",
       "      <th>3</th>\n",
       "      <td>30308357</td>\n",
       "      <td>Female</td>\n",
       "      <td>1984-03-11</td>\n",
       "      <td>TN</td>\n",
       "      <td>7986314758</td>\n",
       "      <td>Silver</td>\n",
       "      <td>63017412.0</td>\n",
       "      <td>Driver error</td>\n",
       "      <td>2018-04-04</td>\n",
       "      <td>Auto</td>\n",
       "      <td>No</td>\n",
       "      <td>Material only</td>\n",
       "      <td>1950.0</td>\n",
       "      <td>6.0</td>\n",
       "      <td>No</td>\n",
       "      <td>0.0</td>\n",
       "    </tr>\n",
       "    <tr>\n",
       "      <th>4</th>\n",
       "      <td>47830476</td>\n",
       "      <td>Female</td>\n",
       "      <td>1986-05-01</td>\n",
       "      <td>MA</td>\n",
       "      <td>4131877945</td>\n",
       "      <td>Silver</td>\n",
       "      <td>13015401.0</td>\n",
       "      <td>Natural causes</td>\n",
       "      <td>2018-06-17</td>\n",
       "      <td>Auto</td>\n",
       "      <td>No</td>\n",
       "      <td>Material only</td>\n",
       "      <td>1680.0</td>\n",
       "      <td>1.0</td>\n",
       "      <td>No</td>\n",
       "      <td>0.0</td>\n",
       "    </tr>\n",
       "  </tbody>\n",
       "</table>\n",
       "</div>"
      ],
      "text/plain": [
       "    CUST_ID  gender DateOfBirth State     Contact   Segment    claim_id  \\\n",
       "0  21868593  Female  1979-01-12    VT  7899168172  Platinum  54004764.0   \n",
       "1  75740424  Female  1970-01-13    ME  2655431264    Silver  33985796.0   \n",
       "2  30308357  Female  1984-03-11    TN  7986314758    Silver  53522022.0   \n",
       "3  30308357  Female  1984-03-11    TN  7986314758    Silver  63017412.0   \n",
       "4  47830476  Female  1986-05-01    MA  4131877945    Silver  13015401.0   \n",
       "\n",
       "       incident_cause claim_date claim_area police_report     claim_type  \\\n",
       "0        Driver error 2017-11-27       Auto            No  Material only   \n",
       "1               Crime 2018-10-03       Home       Unknown  Material only   \n",
       "2  Other driver error 2018-02-02       Auto            No  Material only   \n",
       "3        Driver error 2018-04-04       Auto            No  Material only   \n",
       "4      Natural causes 2018-06-17       Auto            No  Material only   \n",
       "\n",
       "   claim_amount  total_policy_claims fraudulent  alert_flag  \n",
       "0        2980.0                  1.0         No         0.0  \n",
       "1        2980.0                  3.0         No         NaN  \n",
       "2        3369.5                  1.0        Yes         0.0  \n",
       "3        1950.0                  6.0         No         0.0  \n",
       "4        1680.0                  1.0         No         0.0  "
      ]
     },
     "execution_count": 26,
     "metadata": {},
     "output_type": "execute_result"
    }
   ],
   "source": [
    "cust_claim.head()"
   ]
  },
  {
   "cell_type": "code",
   "execution_count": 27,
   "id": "50eba31c",
   "metadata": {},
   "outputs": [
    {
     "data": {
      "text/html": [
       "<div>\n",
       "<style scoped>\n",
       "    .dataframe tbody tr th:only-of-type {\n",
       "        vertical-align: middle;\n",
       "    }\n",
       "\n",
       "    .dataframe tbody tr th {\n",
       "        vertical-align: top;\n",
       "    }\n",
       "\n",
       "    .dataframe thead th {\n",
       "        text-align: right;\n",
       "    }\n",
       "</style>\n",
       "<table border=\"1\" class=\"dataframe\">\n",
       "  <thead>\n",
       "    <tr style=\"text-align: right;\">\n",
       "      <th></th>\n",
       "      <th>CUST_ID</th>\n",
       "      <th>gender</th>\n",
       "      <th>DateOfBirth</th>\n",
       "      <th>State</th>\n",
       "      <th>Contact</th>\n",
       "      <th>Segment</th>\n",
       "      <th>claim_id</th>\n",
       "      <th>incident_cause</th>\n",
       "      <th>claim_date</th>\n",
       "      <th>claim_area</th>\n",
       "      <th>claim_type</th>\n",
       "      <th>claim_amount</th>\n",
       "      <th>total_policy_claims</th>\n",
       "      <th>fraudulent</th>\n",
       "      <th>alert_flag</th>\n",
       "    </tr>\n",
       "  </thead>\n",
       "  <tbody>\n",
       "    <tr>\n",
       "      <th>0</th>\n",
       "      <td>21868593</td>\n",
       "      <td>Female</td>\n",
       "      <td>1979-01-12</td>\n",
       "      <td>VT</td>\n",
       "      <td>7899168172</td>\n",
       "      <td>Platinum</td>\n",
       "      <td>54004764.0</td>\n",
       "      <td>Driver error</td>\n",
       "      <td>2017-11-27</td>\n",
       "      <td>Auto</td>\n",
       "      <td>Material only</td>\n",
       "      <td>2980.0</td>\n",
       "      <td>1.0</td>\n",
       "      <td>No</td>\n",
       "      <td>0.0</td>\n",
       "    </tr>\n",
       "    <tr>\n",
       "      <th>1</th>\n",
       "      <td>75740424</td>\n",
       "      <td>Female</td>\n",
       "      <td>1970-01-13</td>\n",
       "      <td>ME</td>\n",
       "      <td>2655431264</td>\n",
       "      <td>Silver</td>\n",
       "      <td>33985796.0</td>\n",
       "      <td>Crime</td>\n",
       "      <td>2018-10-03</td>\n",
       "      <td>Home</td>\n",
       "      <td>Material only</td>\n",
       "      <td>2980.0</td>\n",
       "      <td>3.0</td>\n",
       "      <td>No</td>\n",
       "      <td>NaN</td>\n",
       "    </tr>\n",
       "    <tr>\n",
       "      <th>2</th>\n",
       "      <td>30308357</td>\n",
       "      <td>Female</td>\n",
       "      <td>1984-03-11</td>\n",
       "      <td>TN</td>\n",
       "      <td>7986314758</td>\n",
       "      <td>Silver</td>\n",
       "      <td>53522022.0</td>\n",
       "      <td>Other driver error</td>\n",
       "      <td>2018-02-02</td>\n",
       "      <td>Auto</td>\n",
       "      <td>Material only</td>\n",
       "      <td>3369.5</td>\n",
       "      <td>1.0</td>\n",
       "      <td>Yes</td>\n",
       "      <td>0.0</td>\n",
       "    </tr>\n",
       "    <tr>\n",
       "      <th>3</th>\n",
       "      <td>30308357</td>\n",
       "      <td>Female</td>\n",
       "      <td>1984-03-11</td>\n",
       "      <td>TN</td>\n",
       "      <td>7986314758</td>\n",
       "      <td>Silver</td>\n",
       "      <td>63017412.0</td>\n",
       "      <td>Driver error</td>\n",
       "      <td>2018-04-04</td>\n",
       "      <td>Auto</td>\n",
       "      <td>Material only</td>\n",
       "      <td>1950.0</td>\n",
       "      <td>6.0</td>\n",
       "      <td>No</td>\n",
       "      <td>0.0</td>\n",
       "    </tr>\n",
       "    <tr>\n",
       "      <th>4</th>\n",
       "      <td>47830476</td>\n",
       "      <td>Female</td>\n",
       "      <td>1986-05-01</td>\n",
       "      <td>MA</td>\n",
       "      <td>4131877945</td>\n",
       "      <td>Silver</td>\n",
       "      <td>13015401.0</td>\n",
       "      <td>Natural causes</td>\n",
       "      <td>2018-06-17</td>\n",
       "      <td>Auto</td>\n",
       "      <td>Material only</td>\n",
       "      <td>1680.0</td>\n",
       "      <td>1.0</td>\n",
       "      <td>No</td>\n",
       "      <td>0.0</td>\n",
       "    </tr>\n",
       "  </tbody>\n",
       "</table>\n",
       "</div>"
      ],
      "text/plain": [
       "    CUST_ID  gender DateOfBirth State     Contact   Segment    claim_id  \\\n",
       "0  21868593  Female  1979-01-12    VT  7899168172  Platinum  54004764.0   \n",
       "1  75740424  Female  1970-01-13    ME  2655431264    Silver  33985796.0   \n",
       "2  30308357  Female  1984-03-11    TN  7986314758    Silver  53522022.0   \n",
       "3  30308357  Female  1984-03-11    TN  7986314758    Silver  63017412.0   \n",
       "4  47830476  Female  1986-05-01    MA  4131877945    Silver  13015401.0   \n",
       "\n",
       "       incident_cause claim_date claim_area     claim_type  claim_amount  \\\n",
       "0        Driver error 2017-11-27       Auto  Material only        2980.0   \n",
       "1               Crime 2018-10-03       Home  Material only        2980.0   \n",
       "2  Other driver error 2018-02-02       Auto  Material only        3369.5   \n",
       "3        Driver error 2018-04-04       Auto  Material only        1950.0   \n",
       "4      Natural causes 2018-06-17       Auto  Material only        1680.0   \n",
       "\n",
       "   total_policy_claims fraudulent  alert_flag  \n",
       "0                  1.0         No         0.0  \n",
       "1                  3.0         No         NaN  \n",
       "2                  1.0        Yes         0.0  \n",
       "3                  6.0         No         0.0  \n",
       "4                  1.0         No         0.0  "
      ]
     },
     "execution_count": 27,
     "metadata": {},
     "output_type": "execute_result"
    }
   ],
   "source": [
    "cust_claim.drop('police_report', axis=1, inplace=True)\n",
    "cust_claim.head()"
   ]
  },
  {
   "cell_type": "markdown",
   "id": "d9f1bc44",
   "metadata": {},
   "source": [
    "# 5. One customer can claim for insurance more than once and in each claim, multiple categories of claims can be involved. However, customer ID should remain unique. "
   ]
  },
  {
   "cell_type": "code",
   "execution_count": 28,
   "id": "e4c138f8",
   "metadata": {},
   "outputs": [
    {
     "data": {
      "text/plain": [
       "7"
      ]
     },
     "execution_count": 28,
     "metadata": {},
     "output_type": "execute_result"
    }
   ],
   "source": [
    "cust_claim.CUST_ID.duplicated().sum()"
   ]
  },
  {
   "cell_type": "code",
   "execution_count": 29,
   "id": "74570441",
   "metadata": {},
   "outputs": [],
   "source": [
    "unique_cust=cust_claim.groupby('CUST_ID').first().reset_index()"
   ]
  },
  {
   "cell_type": "code",
   "execution_count": 30,
   "id": "bd353d6b",
   "metadata": {},
   "outputs": [
    {
     "data": {
      "text/html": [
       "<div>\n",
       "<style scoped>\n",
       "    .dataframe tbody tr th:only-of-type {\n",
       "        vertical-align: middle;\n",
       "    }\n",
       "\n",
       "    .dataframe tbody tr th {\n",
       "        vertical-align: top;\n",
       "    }\n",
       "\n",
       "    .dataframe thead th {\n",
       "        text-align: right;\n",
       "    }\n",
       "</style>\n",
       "<table border=\"1\" class=\"dataframe\">\n",
       "  <thead>\n",
       "    <tr style=\"text-align: right;\">\n",
       "      <th></th>\n",
       "      <th>CUST_ID</th>\n",
       "      <th>gender</th>\n",
       "      <th>DateOfBirth</th>\n",
       "      <th>State</th>\n",
       "      <th>Contact</th>\n",
       "      <th>Segment</th>\n",
       "      <th>claim_id</th>\n",
       "      <th>incident_cause</th>\n",
       "      <th>claim_date</th>\n",
       "      <th>claim_area</th>\n",
       "      <th>claim_type</th>\n",
       "      <th>claim_amount</th>\n",
       "      <th>total_policy_claims</th>\n",
       "      <th>fraudulent</th>\n",
       "      <th>alert_flag</th>\n",
       "    </tr>\n",
       "  </thead>\n",
       "  <tbody>\n",
       "    <tr>\n",
       "      <th>0</th>\n",
       "      <td>154557</td>\n",
       "      <td>Female</td>\n",
       "      <td>1978-05-23</td>\n",
       "      <td>DE</td>\n",
       "      <td>9628791238</td>\n",
       "      <td>Platinum</td>\n",
       "      <td>69348631.0</td>\n",
       "      <td>Driver error</td>\n",
       "      <td>2018-04-10</td>\n",
       "      <td>Auto</td>\n",
       "      <td>Injury only</td>\n",
       "      <td>NaN</td>\n",
       "      <td>1.0</td>\n",
       "      <td>Yes</td>\n",
       "      <td>0.0</td>\n",
       "    </tr>\n",
       "    <tr>\n",
       "      <th>1</th>\n",
       "      <td>263204</td>\n",
       "      <td>Male</td>\n",
       "      <td>1972-12-20</td>\n",
       "      <td>TX</td>\n",
       "      <td>1738926314</td>\n",
       "      <td>Silver</td>\n",
       "      <td>40953049.0</td>\n",
       "      <td>Other causes</td>\n",
       "      <td>2018-04-04</td>\n",
       "      <td>Auto</td>\n",
       "      <td>Material and injury</td>\n",
       "      <td>39192.0</td>\n",
       "      <td>1.0</td>\n",
       "      <td>Yes</td>\n",
       "      <td>0.0</td>\n",
       "    </tr>\n",
       "    <tr>\n",
       "      <th>2</th>\n",
       "      <td>287476</td>\n",
       "      <td>Male</td>\n",
       "      <td>1988-07-28</td>\n",
       "      <td>FL</td>\n",
       "      <td>3645981549</td>\n",
       "      <td>Silver</td>\n",
       "      <td>45780237.0</td>\n",
       "      <td>Natural causes</td>\n",
       "      <td>2017-10-17</td>\n",
       "      <td>Auto</td>\n",
       "      <td>Material only</td>\n",
       "      <td>1621.5</td>\n",
       "      <td>2.0</td>\n",
       "      <td>Yes</td>\n",
       "      <td>NaN</td>\n",
       "    </tr>\n",
       "    <tr>\n",
       "      <th>3</th>\n",
       "      <td>441097</td>\n",
       "      <td>Male</td>\n",
       "      <td>1971-08-19</td>\n",
       "      <td>CA</td>\n",
       "      <td>1873488375</td>\n",
       "      <td>Gold</td>\n",
       "      <td>89833962.0</td>\n",
       "      <td>Other causes</td>\n",
       "      <td>2018-03-21</td>\n",
       "      <td>Auto</td>\n",
       "      <td>Material and injury</td>\n",
       "      <td>37040.0</td>\n",
       "      <td>1.0</td>\n",
       "      <td>No</td>\n",
       "      <td>1.0</td>\n",
       "    </tr>\n",
       "    <tr>\n",
       "      <th>4</th>\n",
       "      <td>524545</td>\n",
       "      <td>Female</td>\n",
       "      <td>1980-08-10</td>\n",
       "      <td>NC</td>\n",
       "      <td>7988625398</td>\n",
       "      <td>Gold</td>\n",
       "      <td>35782742.0</td>\n",
       "      <td>Other driver error</td>\n",
       "      <td>2018-07-27</td>\n",
       "      <td>Auto</td>\n",
       "      <td>Injury only</td>\n",
       "      <td>35250.0</td>\n",
       "      <td>3.0</td>\n",
       "      <td>No</td>\n",
       "      <td>0.0</td>\n",
       "    </tr>\n",
       "  </tbody>\n",
       "</table>\n",
       "</div>"
      ],
      "text/plain": [
       "   CUST_ID  gender DateOfBirth State     Contact   Segment    claim_id  \\\n",
       "0   154557  Female  1978-05-23    DE  9628791238  Platinum  69348631.0   \n",
       "1   263204    Male  1972-12-20    TX  1738926314    Silver  40953049.0   \n",
       "2   287476    Male  1988-07-28    FL  3645981549    Silver  45780237.0   \n",
       "3   441097    Male  1971-08-19    CA  1873488375      Gold  89833962.0   \n",
       "4   524545  Female  1980-08-10    NC  7988625398      Gold  35782742.0   \n",
       "\n",
       "       incident_cause claim_date claim_area           claim_type  \\\n",
       "0        Driver error 2018-04-10       Auto          Injury only   \n",
       "1        Other causes 2018-04-04       Auto  Material and injury   \n",
       "2      Natural causes 2017-10-17       Auto        Material only   \n",
       "3        Other causes 2018-03-21       Auto  Material and injury   \n",
       "4  Other driver error 2018-07-27       Auto          Injury only   \n",
       "\n",
       "   claim_amount  total_policy_claims fraudulent  alert_flag  \n",
       "0           NaN                  1.0        Yes         0.0  \n",
       "1       39192.0                  1.0        Yes         0.0  \n",
       "2        1621.5                  2.0        Yes         NaN  \n",
       "3       37040.0                  1.0         No         1.0  \n",
       "4       35250.0                  3.0         No         0.0  "
      ]
     },
     "execution_count": 30,
     "metadata": {},
     "output_type": "execute_result"
    }
   ],
   "source": [
    "unique_cust.head()"
   ]
  },
  {
   "cell_type": "markdown",
   "id": "ac5ce009",
   "metadata": {},
   "source": [
    "# 6. Check for missing values and impute the missing values with an appropriate value. (mean for continuous and mode for categorical)"
   ]
  },
  {
   "cell_type": "code",
   "execution_count": 31,
   "id": "200acb4f",
   "metadata": {},
   "outputs": [
    {
     "data": {
      "text/plain": [
       "CUST_ID                  0\n",
       "gender                   0\n",
       "DateOfBirth              0\n",
       "State                    0\n",
       "Contact                  0\n",
       "Segment                  0\n",
       "claim_id                 7\n",
       "incident_cause           7\n",
       "claim_date               7\n",
       "claim_area               7\n",
       "claim_type               7\n",
       "claim_amount            72\n",
       "total_policy_claims     17\n",
       "fraudulent               7\n",
       "alert_flag             299\n",
       "dtype: int64"
      ]
     },
     "execution_count": 31,
     "metadata": {},
     "output_type": "execute_result"
    }
   ],
   "source": [
    "unique_cust.isna().sum()"
   ]
  },
  {
   "cell_type": "code",
   "execution_count": 32,
   "id": "c39366ba",
   "metadata": {},
   "outputs": [
    {
     "name": "stdout",
     "output_type": "stream",
     "text": [
      "<class 'pandas.core.frame.DataFrame'>\n",
      "RangeIndex: 1085 entries, 0 to 1084\n",
      "Data columns (total 15 columns):\n",
      " #   Column               Non-Null Count  Dtype         \n",
      "---  ------               --------------  -----         \n",
      " 0   CUST_ID              1085 non-null   int64         \n",
      " 1   gender               1085 non-null   object        \n",
      " 2   DateOfBirth          1085 non-null   datetime64[ns]\n",
      " 3   State                1085 non-null   object        \n",
      " 4   Contact              1085 non-null   int64         \n",
      " 5   Segment              1085 non-null   object        \n",
      " 6   claim_id             1078 non-null   float64       \n",
      " 7   incident_cause       1078 non-null   object        \n",
      " 8   claim_date           1078 non-null   datetime64[ns]\n",
      " 9   claim_area           1078 non-null   object        \n",
      " 10  claim_type           1078 non-null   object        \n",
      " 11  claim_amount         1013 non-null   float32       \n",
      " 12  total_policy_claims  1068 non-null   float64       \n",
      " 13  fraudulent           1078 non-null   object        \n",
      " 14  alert_flag           786 non-null    float64       \n",
      "dtypes: datetime64[ns](2), float32(1), float64(3), int64(2), object(7)\n",
      "memory usage: 123.0+ KB\n"
     ]
    }
   ],
   "source": [
    "unique_cust.info()"
   ]
  },
  {
   "cell_type": "code",
   "execution_count": 33,
   "id": "2cdc133c",
   "metadata": {},
   "outputs": [],
   "source": [
    "cat_var=['incident_cause','claim_area','claim_type','fraudulent','alert_flag']\n",
    "cont_var=['claim_amount']"
   ]
  },
  {
   "cell_type": "code",
   "execution_count": 34,
   "id": "a3b95c72",
   "metadata": {},
   "outputs": [],
   "source": [
    "for col in cat_var:\n",
    "    unique_cust[col]=unique_cust[col].fillna(unique_cust[col].mode()[0])\n",
    "\n",
    "unique_cust[cont_var]=unique_cust[cont_var].fillna(unique_cust[cont_var].mean())"
   ]
  },
  {
   "cell_type": "code",
   "execution_count": 35,
   "id": "ba984396",
   "metadata": {},
   "outputs": [
    {
     "data": {
      "text/plain": [
       "CUST_ID                 0\n",
       "gender                  0\n",
       "DateOfBirth             0\n",
       "State                   0\n",
       "Contact                 0\n",
       "Segment                 0\n",
       "claim_id                7\n",
       "incident_cause          0\n",
       "claim_date              7\n",
       "claim_area              0\n",
       "claim_type              0\n",
       "claim_amount            0\n",
       "total_policy_claims    17\n",
       "fraudulent              0\n",
       "alert_flag              0\n",
       "dtype: int64"
      ]
     },
     "execution_count": 35,
     "metadata": {},
     "output_type": "execute_result"
    }
   ],
   "source": [
    "unique_cust.isna().sum()"
   ]
  },
  {
   "cell_type": "markdown",
   "id": "7413ab7d",
   "metadata": {},
   "source": [
    "Claim date, claim id and total claim policies cannot be assigned randomly as it can misguide."
   ]
  },
  {
   "cell_type": "markdown",
   "id": "5087ee53",
   "metadata": {},
   "source": [
    "# 7. Calculate the age of customers in years. Based on the age, categorize the customers according to the below criteria\n"
   ]
  },
  {
   "cell_type": "markdown",
   "id": "911160ee",
   "metadata": {},
   "source": [
    "Children < 18                                                                                                              \n",
    "Youth 18-30                                                                                                               \n",
    "Adult 30-60                                                                                                               \n",
    "Senior > 60"
   ]
  },
  {
   "cell_type": "code",
   "execution_count": 36,
   "id": "5fd8a01e",
   "metadata": {},
   "outputs": [],
   "source": [
    "unique_cust['Age']=round((unique_cust.claim_date-unique_cust.DateOfBirth).apply(lambda x: x.days)/365.25,0)"
   ]
  },
  {
   "cell_type": "code",
   "execution_count": 37,
   "id": "f072e0a9",
   "metadata": {},
   "outputs": [
    {
     "data": {
      "text/plain": [
       "0       40.0\n",
       "1       45.0\n",
       "2       29.0\n",
       "3       47.0\n",
       "4       38.0\n",
       "        ... \n",
       "1080    53.0\n",
       "1081    52.0\n",
       "1082    54.0\n",
       "1083    22.0\n",
       "1084    23.0\n",
       "Name: Age, Length: 1085, dtype: float64"
      ]
     },
     "execution_count": 37,
     "metadata": {},
     "output_type": "execute_result"
    }
   ],
   "source": [
    "unique_cust['Age']"
   ]
  },
  {
   "cell_type": "code",
   "execution_count": 38,
   "id": "9ceccce9",
   "metadata": {},
   "outputs": [],
   "source": [
    "unique_cust['Age_group']= np.where(unique_cust.Age<18,'Children',np.where(unique_cust.Age<30,'Youth',\n",
    "                            np.where(unique_cust.Age<60,'Adult','Senior')))"
   ]
  },
  {
   "cell_type": "code",
   "execution_count": 40,
   "id": "66af7691",
   "metadata": {},
   "outputs": [
    {
     "data": {
      "text/html": [
       "<div>\n",
       "<style scoped>\n",
       "    .dataframe tbody tr th:only-of-type {\n",
       "        vertical-align: middle;\n",
       "    }\n",
       "\n",
       "    .dataframe tbody tr th {\n",
       "        vertical-align: top;\n",
       "    }\n",
       "\n",
       "    .dataframe thead th {\n",
       "        text-align: right;\n",
       "    }\n",
       "</style>\n",
       "<table border=\"1\" class=\"dataframe\">\n",
       "  <thead>\n",
       "    <tr style=\"text-align: right;\">\n",
       "      <th></th>\n",
       "      <th>CUST_ID</th>\n",
       "      <th>gender</th>\n",
       "      <th>DateOfBirth</th>\n",
       "      <th>State</th>\n",
       "      <th>Contact</th>\n",
       "      <th>Segment</th>\n",
       "      <th>claim_id</th>\n",
       "      <th>incident_cause</th>\n",
       "      <th>claim_date</th>\n",
       "      <th>claim_area</th>\n",
       "      <th>claim_type</th>\n",
       "      <th>claim_amount</th>\n",
       "      <th>total_policy_claims</th>\n",
       "      <th>fraudulent</th>\n",
       "      <th>alert_flag</th>\n",
       "      <th>Age</th>\n",
       "      <th>Age_group</th>\n",
       "    </tr>\n",
       "  </thead>\n",
       "  <tbody>\n",
       "    <tr>\n",
       "      <th>0</th>\n",
       "      <td>154557</td>\n",
       "      <td>Female</td>\n",
       "      <td>1978-05-23</td>\n",
       "      <td>DE</td>\n",
       "      <td>9628791238</td>\n",
       "      <td>Platinum</td>\n",
       "      <td>69348631.0</td>\n",
       "      <td>Driver error</td>\n",
       "      <td>2018-04-10</td>\n",
       "      <td>Auto</td>\n",
       "      <td>Injury only</td>\n",
       "      <td>12470.498047</td>\n",
       "      <td>1.0</td>\n",
       "      <td>Yes</td>\n",
       "      <td>0.0</td>\n",
       "      <td>40.0</td>\n",
       "      <td>Adult</td>\n",
       "    </tr>\n",
       "    <tr>\n",
       "      <th>1</th>\n",
       "      <td>263204</td>\n",
       "      <td>Male</td>\n",
       "      <td>1972-12-20</td>\n",
       "      <td>TX</td>\n",
       "      <td>1738926314</td>\n",
       "      <td>Silver</td>\n",
       "      <td>40953049.0</td>\n",
       "      <td>Other causes</td>\n",
       "      <td>2018-04-04</td>\n",
       "      <td>Auto</td>\n",
       "      <td>Material and injury</td>\n",
       "      <td>39192.000000</td>\n",
       "      <td>1.0</td>\n",
       "      <td>Yes</td>\n",
       "      <td>0.0</td>\n",
       "      <td>45.0</td>\n",
       "      <td>Adult</td>\n",
       "    </tr>\n",
       "    <tr>\n",
       "      <th>2</th>\n",
       "      <td>287476</td>\n",
       "      <td>Male</td>\n",
       "      <td>1988-07-28</td>\n",
       "      <td>FL</td>\n",
       "      <td>3645981549</td>\n",
       "      <td>Silver</td>\n",
       "      <td>45780237.0</td>\n",
       "      <td>Natural causes</td>\n",
       "      <td>2017-10-17</td>\n",
       "      <td>Auto</td>\n",
       "      <td>Material only</td>\n",
       "      <td>1621.500000</td>\n",
       "      <td>2.0</td>\n",
       "      <td>Yes</td>\n",
       "      <td>0.0</td>\n",
       "      <td>29.0</td>\n",
       "      <td>Youth</td>\n",
       "    </tr>\n",
       "    <tr>\n",
       "      <th>3</th>\n",
       "      <td>441097</td>\n",
       "      <td>Male</td>\n",
       "      <td>1971-08-19</td>\n",
       "      <td>CA</td>\n",
       "      <td>1873488375</td>\n",
       "      <td>Gold</td>\n",
       "      <td>89833962.0</td>\n",
       "      <td>Other causes</td>\n",
       "      <td>2018-03-21</td>\n",
       "      <td>Auto</td>\n",
       "      <td>Material and injury</td>\n",
       "      <td>37040.000000</td>\n",
       "      <td>1.0</td>\n",
       "      <td>No</td>\n",
       "      <td>1.0</td>\n",
       "      <td>47.0</td>\n",
       "      <td>Adult</td>\n",
       "    </tr>\n",
       "    <tr>\n",
       "      <th>4</th>\n",
       "      <td>524545</td>\n",
       "      <td>Female</td>\n",
       "      <td>1980-08-10</td>\n",
       "      <td>NC</td>\n",
       "      <td>7988625398</td>\n",
       "      <td>Gold</td>\n",
       "      <td>35782742.0</td>\n",
       "      <td>Other driver error</td>\n",
       "      <td>2018-07-27</td>\n",
       "      <td>Auto</td>\n",
       "      <td>Injury only</td>\n",
       "      <td>35250.000000</td>\n",
       "      <td>3.0</td>\n",
       "      <td>No</td>\n",
       "      <td>0.0</td>\n",
       "      <td>38.0</td>\n",
       "      <td>Adult</td>\n",
       "    </tr>\n",
       "    <tr>\n",
       "      <th>...</th>\n",
       "      <td>...</td>\n",
       "      <td>...</td>\n",
       "      <td>...</td>\n",
       "      <td>...</td>\n",
       "      <td>...</td>\n",
       "      <td>...</td>\n",
       "      <td>...</td>\n",
       "      <td>...</td>\n",
       "      <td>...</td>\n",
       "      <td>...</td>\n",
       "      <td>...</td>\n",
       "      <td>...</td>\n",
       "      <td>...</td>\n",
       "      <td>...</td>\n",
       "      <td>...</td>\n",
       "      <td>...</td>\n",
       "      <td>...</td>\n",
       "    </tr>\n",
       "    <tr>\n",
       "      <th>195</th>\n",
       "      <td>18818283</td>\n",
       "      <td>Female</td>\n",
       "      <td>1997-05-03</td>\n",
       "      <td>CT</td>\n",
       "      <td>1791366493</td>\n",
       "      <td>Platinum</td>\n",
       "      <td>12799217.0</td>\n",
       "      <td>Natural causes</td>\n",
       "      <td>2018-10-23</td>\n",
       "      <td>Auto</td>\n",
       "      <td>Material only</td>\n",
       "      <td>12470.498047</td>\n",
       "      <td>3.0</td>\n",
       "      <td>No</td>\n",
       "      <td>0.0</td>\n",
       "      <td>21.0</td>\n",
       "      <td>Youth</td>\n",
       "    </tr>\n",
       "    <tr>\n",
       "      <th>196</th>\n",
       "      <td>18842829</td>\n",
       "      <td>Male</td>\n",
       "      <td>1969-09-10</td>\n",
       "      <td>ME</td>\n",
       "      <td>5611584657</td>\n",
       "      <td>Platinum</td>\n",
       "      <td>79446773.0</td>\n",
       "      <td>Driver error</td>\n",
       "      <td>2017-03-02</td>\n",
       "      <td>Auto</td>\n",
       "      <td>Material only</td>\n",
       "      <td>2450.000000</td>\n",
       "      <td>1.0</td>\n",
       "      <td>No</td>\n",
       "      <td>0.0</td>\n",
       "      <td>47.0</td>\n",
       "      <td>Adult</td>\n",
       "    </tr>\n",
       "    <tr>\n",
       "      <th>197</th>\n",
       "      <td>19171044</td>\n",
       "      <td>Female</td>\n",
       "      <td>1979-02-06</td>\n",
       "      <td>WI</td>\n",
       "      <td>2815976245</td>\n",
       "      <td>Platinum</td>\n",
       "      <td>19911335.0</td>\n",
       "      <td>Driver error</td>\n",
       "      <td>2017-04-12</td>\n",
       "      <td>Auto</td>\n",
       "      <td>Injury only</td>\n",
       "      <td>17360.000000</td>\n",
       "      <td>1.0</td>\n",
       "      <td>No</td>\n",
       "      <td>1.0</td>\n",
       "      <td>38.0</td>\n",
       "      <td>Adult</td>\n",
       "    </tr>\n",
       "    <tr>\n",
       "      <th>198</th>\n",
       "      <td>19269962</td>\n",
       "      <td>Male</td>\n",
       "      <td>1977-05-13</td>\n",
       "      <td>NV</td>\n",
       "      <td>9568718691</td>\n",
       "      <td>Gold</td>\n",
       "      <td>22890252.0</td>\n",
       "      <td>Crime</td>\n",
       "      <td>2018-01-13</td>\n",
       "      <td>Auto</td>\n",
       "      <td>Material only</td>\n",
       "      <td>2680.000000</td>\n",
       "      <td>1.0</td>\n",
       "      <td>No</td>\n",
       "      <td>0.0</td>\n",
       "      <td>41.0</td>\n",
       "      <td>Adult</td>\n",
       "    </tr>\n",
       "    <tr>\n",
       "      <th>199</th>\n",
       "      <td>19409471</td>\n",
       "      <td>Male</td>\n",
       "      <td>1963-11-07</td>\n",
       "      <td>AR</td>\n",
       "      <td>2159784689</td>\n",
       "      <td>Silver</td>\n",
       "      <td>2434059.0</td>\n",
       "      <td>Other driver error</td>\n",
       "      <td>2017-06-18</td>\n",
       "      <td>Auto</td>\n",
       "      <td>Material only</td>\n",
       "      <td>1550.000000</td>\n",
       "      <td>1.0</td>\n",
       "      <td>No</td>\n",
       "      <td>0.0</td>\n",
       "      <td>54.0</td>\n",
       "      <td>Adult</td>\n",
       "    </tr>\n",
       "  </tbody>\n",
       "</table>\n",
       "<p>200 rows × 17 columns</p>\n",
       "</div>"
      ],
      "text/plain": [
       "      CUST_ID  gender DateOfBirth State     Contact   Segment    claim_id  \\\n",
       "0      154557  Female  1978-05-23    DE  9628791238  Platinum  69348631.0   \n",
       "1      263204    Male  1972-12-20    TX  1738926314    Silver  40953049.0   \n",
       "2      287476    Male  1988-07-28    FL  3645981549    Silver  45780237.0   \n",
       "3      441097    Male  1971-08-19    CA  1873488375      Gold  89833962.0   \n",
       "4      524545  Female  1980-08-10    NC  7988625398      Gold  35782742.0   \n",
       "..        ...     ...         ...   ...         ...       ...         ...   \n",
       "195  18818283  Female  1997-05-03    CT  1791366493  Platinum  12799217.0   \n",
       "196  18842829    Male  1969-09-10    ME  5611584657  Platinum  79446773.0   \n",
       "197  19171044  Female  1979-02-06    WI  2815976245  Platinum  19911335.0   \n",
       "198  19269962    Male  1977-05-13    NV  9568718691      Gold  22890252.0   \n",
       "199  19409471    Male  1963-11-07    AR  2159784689    Silver   2434059.0   \n",
       "\n",
       "         incident_cause claim_date claim_area           claim_type  \\\n",
       "0          Driver error 2018-04-10       Auto          Injury only   \n",
       "1          Other causes 2018-04-04       Auto  Material and injury   \n",
       "2        Natural causes 2017-10-17       Auto        Material only   \n",
       "3          Other causes 2018-03-21       Auto  Material and injury   \n",
       "4    Other driver error 2018-07-27       Auto          Injury only   \n",
       "..                  ...        ...        ...                  ...   \n",
       "195      Natural causes 2018-10-23       Auto        Material only   \n",
       "196        Driver error 2017-03-02       Auto        Material only   \n",
       "197        Driver error 2017-04-12       Auto          Injury only   \n",
       "198               Crime 2018-01-13       Auto        Material only   \n",
       "199  Other driver error 2017-06-18       Auto        Material only   \n",
       "\n",
       "     claim_amount  total_policy_claims fraudulent  alert_flag   Age Age_group  \n",
       "0    12470.498047                  1.0        Yes         0.0  40.0     Adult  \n",
       "1    39192.000000                  1.0        Yes         0.0  45.0     Adult  \n",
       "2     1621.500000                  2.0        Yes         0.0  29.0     Youth  \n",
       "3    37040.000000                  1.0         No         1.0  47.0     Adult  \n",
       "4    35250.000000                  3.0         No         0.0  38.0     Adult  \n",
       "..            ...                  ...        ...         ...   ...       ...  \n",
       "195  12470.498047                  3.0         No         0.0  21.0     Youth  \n",
       "196   2450.000000                  1.0         No         0.0  47.0     Adult  \n",
       "197  17360.000000                  1.0         No         1.0  38.0     Adult  \n",
       "198   2680.000000                  1.0         No         0.0  41.0     Adult  \n",
       "199   1550.000000                  1.0         No         0.0  54.0     Adult  \n",
       "\n",
       "[200 rows x 17 columns]"
      ]
     },
     "execution_count": 40,
     "metadata": {},
     "output_type": "execute_result"
    }
   ],
   "source": [
    "unique_cust.head(200)"
   ]
  },
  {
   "cell_type": "markdown",
   "id": "5f595397",
   "metadata": {},
   "source": [
    "# 8. What is the average amount claimed by the customers from various segments?"
   ]
  },
  {
   "cell_type": "code",
   "execution_count": 41,
   "id": "bb8efa68",
   "metadata": {},
   "outputs": [
    {
     "data": {
      "text/plain": [
       "Segment\n",
       "Gold        4745124.5\n",
       "Platinum    4502730.5\n",
       "Silver      4282636.0\n",
       "Name: claim_amount, dtype: float32"
      ]
     },
     "execution_count": 41,
     "metadata": {},
     "output_type": "execute_result"
    }
   ],
   "source": [
    "unique_cust.groupby('Segment').claim_amount.sum()"
   ]
  },
  {
   "cell_type": "markdown",
   "id": "24f5aff3",
   "metadata": {},
   "source": [
    "# 9. What is the total claim amount based on incident cause for all the claims that have been done atleast 20 days prior to 1st of October, 2018."
   ]
  },
  {
   "cell_type": "code",
   "execution_count": 46,
   "id": "7cd20024",
   "metadata": {},
   "outputs": [
    {
     "data": {
      "text/plain": [
       "incident_cause\n",
       "Crime                  724462.5\n",
       "Driver error          3264286.0\n",
       "Natural causes        1312706.0\n",
       "Other causes          3725038.5\n",
       "Other driver error    3318806.5\n",
       "Name: claim_amount, dtype: float32"
      ]
     },
     "execution_count": 46,
     "metadata": {},
     "output_type": "execute_result"
    }
   ],
   "source": [
    "unique_cust.loc[unique_cust.claim_date<pd.to_datetime('2018-09-10', format='mixed')].groupby('incident_cause').claim_amount.sum()"
   ]
  },
  {
   "cell_type": "markdown",
   "id": "f3f4a32e",
   "metadata": {},
   "source": [
    "# 10. How many adults from TX, DE and AK claimed insurance for driver related issues and causes?"
   ]
  },
  {
   "cell_type": "code",
   "execution_count": 53,
   "id": "8dba099a",
   "metadata": {},
   "outputs": [
    {
     "data": {
      "text/plain": [
       "24"
      ]
     },
     "execution_count": 53,
     "metadata": {},
     "output_type": "execute_result"
    }
   ],
   "source": [
    "unique_cust[(unique_cust.State.isin(['TX','DE', 'AK'])) & (unique_cust.incident_cause.isin(['Driver error','Other driver error'])) & (unique_cust.Age_group=='Adult')].CUST_ID.count()"
   ]
  },
  {
   "cell_type": "markdown",
   "id": "eb52a187",
   "metadata": {},
   "source": [
    "# 11. Draw a pie chart between the aggregated value of claim amount based on gender and segment. represent the claim amount as a percentage on the pie chart."
   ]
  },
  {
   "cell_type": "code",
   "execution_count": 57,
   "id": "42580159",
   "metadata": {},
   "outputs": [],
   "source": [
    "claim_pie=pd.pivot_table(unique_cust, index='Segment', columns='gender', values='claim_amount')"
   ]
  },
  {
   "cell_type": "code",
   "execution_count": 59,
   "id": "b19bc488",
   "metadata": {},
   "outputs": [
    {
     "data": {
      "text/html": [
       "<div>\n",
       "<style scoped>\n",
       "    .dataframe tbody tr th:only-of-type {\n",
       "        vertical-align: middle;\n",
       "    }\n",
       "\n",
       "    .dataframe tbody tr th {\n",
       "        vertical-align: top;\n",
       "    }\n",
       "\n",
       "    .dataframe thead th {\n",
       "        text-align: right;\n",
       "    }\n",
       "</style>\n",
       "<table border=\"1\" class=\"dataframe\">\n",
       "  <thead>\n",
       "    <tr style=\"text-align: right;\">\n",
       "      <th>gender</th>\n",
       "      <th>Female</th>\n",
       "      <th>Male</th>\n",
       "    </tr>\n",
       "    <tr>\n",
       "      <th>Segment</th>\n",
       "      <th></th>\n",
       "      <th></th>\n",
       "    </tr>\n",
       "  </thead>\n",
       "  <tbody>\n",
       "    <tr>\n",
       "      <th>Gold</th>\n",
       "      <td>12338.569336</td>\n",
       "      <td>13114.452148</td>\n",
       "    </tr>\n",
       "    <tr>\n",
       "      <th>Platinum</th>\n",
       "      <td>12278.216797</td>\n",
       "      <td>12475.038086</td>\n",
       "    </tr>\n",
       "    <tr>\n",
       "      <th>Silver</th>\n",
       "      <td>11662.469727</td>\n",
       "      <td>12823.311523</td>\n",
       "    </tr>\n",
       "  </tbody>\n",
       "</table>\n",
       "</div>"
      ],
      "text/plain": [
       "gender          Female          Male\n",
       "Segment                             \n",
       "Gold      12338.569336  13114.452148\n",
       "Platinum  12278.216797  12475.038086\n",
       "Silver    11662.469727  12823.311523"
      ]
     },
     "execution_count": 59,
     "metadata": {},
     "output_type": "execute_result"
    }
   ],
   "source": [
    "claim_pie"
   ]
  },
  {
   "cell_type": "code",
   "execution_count": 69,
   "id": "04b27798",
   "metadata": {},
   "outputs": [
    {
     "data": {
      "text/plain": [
       "array([<Axes: ylabel='Female'>, <Axes: ylabel='Male'>], dtype=object)"
      ]
     },
     "execution_count": 69,
     "metadata": {},
     "output_type": "execute_result"
    },
    {
     "data": {
      "image/png": "[encoded data removed]",
      "text/plain": [
       "<Figure size 640x480 with 2 Axes>"
      ]
     },
     "metadata": {},
     "output_type": "display_data"
    }
   ],
   "source": [
    "claim_pie.plot(kind='pie',labels=['Gold','Platinum','Silver'], subplots=True,autopct='%.1f%%',)"
   ]
  },
  {
   "cell_type": "markdown",
   "id": "e36c62c4",
   "metadata": {},
   "source": [
    "# 12. Among males and females, which gender had claimed the most for any type of driver related issues? E.g. This metric can be compared using a bar chart."
   ]
  },
  {
   "cell_type": "code",
   "execution_count": 71,
   "id": "71a6acb7",
   "metadata": {},
   "outputs": [],
   "source": [
    "gender_claim=unique_cust[unique_cust.incident_cause.isin(['Dricer error','Other driver error'])].groupby('gender').claim_amount.sum()"
   ]
  },
  {
   "cell_type": "code",
   "execution_count": 74,
   "id": "ea945c09",
   "metadata": {},
   "outputs": [
    {
     "data": {
      "text/plain": [
       "Text(0, 0.5, 'Claim Amount')"
      ]
     },
     "execution_count": 74,
     "metadata": {},
     "output_type": "execute_result"
    },
    {
     "data": {
      "image/png": "[encoded data removed]",
      "text/plain": [
       "<Figure size 640x480 with 1 Axes>"
      ]
     },
     "metadata": {},
     "output_type": "display_data"
    }
   ],
   "source": [
    "gender_claim.plot(kind='bar')\n",
    "plt.ylabel('Claim Amount')"
   ]
  },
  {
   "cell_type": "markdown",
   "id": "e343eaaa",
   "metadata": {},
   "source": [
    "# 13. Which age group had the maximum fraudulent policy claims? Visualize it on bar chart."
   ]
  },
  {
   "cell_type": "code",
   "execution_count": 85,
   "id": "cdf0c1b3",
   "metadata": {},
   "outputs": [],
   "source": [
    "fraud=unique_cust.groupby('Age_group').fraudulent.count()"
   ]
  },
  {
   "cell_type": "code",
   "execution_count": 87,
   "id": "9b6eb453",
   "metadata": {},
   "outputs": [
    {
     "data": {
      "text/plain": [
       "<Axes: xlabel='Age_group', ylabel='Fraud'>"
      ]
     },
     "execution_count": 87,
     "metadata": {},
     "output_type": "execute_result"
    },
    {
     "data": {
      "image/png": "[encoded data removed]",
      "text/plain": [
       "<Figure size 640x480 with 1 Axes>"
      ]
     },
     "metadata": {},
     "output_type": "display_data"
    }
   ],
   "source": [
    "fraud.plot(kind='bar', ylabel='Fraud')"
   ]
  },
  {
   "cell_type": "markdown",
   "id": "b190f5be",
   "metadata": {},
   "source": [
    "# 14. Visualize the monthly trend of the total amount that has been claimed by the customers. Ensure that on the \"month\" axis, the month is in chronological order not alphabetical order."
   ]
  },
  {
   "cell_type": "code",
   "execution_count": 100,
   "id": "cfb7dda0",
   "metadata": {},
   "outputs": [],
   "source": [
    "unique_cust['month']=unique_cust.claim_date.apply(lambda x: x.month)"
   ]
  },
  {
   "cell_type": "code",
   "execution_count": 101,
   "id": "b507723b",
   "metadata": {},
   "outputs": [],
   "source": [
    "monthly_claim=unique_cust.groupby('month').claim_amount.sum()"
   ]
  },
  {
   "cell_type": "code",
   "execution_count": 102,
   "id": "6c2c51cb",
   "metadata": {},
   "outputs": [
    {
     "data": {
      "text/plain": [
       "month\n",
       "1.0     1332012.0\n",
       "2.0     1133107.0\n",
       "3.0     1320094.0\n",
       "4.0     1276071.5\n",
       "5.0     1114211.5\n",
       "6.0     1276333.0\n",
       "7.0     1379035.0\n",
       "8.0      911203.5\n",
       "9.0      980648.0\n",
       "10.0    1422655.5\n",
       "11.0     601125.0\n",
       "12.0     696701.5\n",
       "Name: claim_amount, dtype: float32"
      ]
     },
     "execution_count": 102,
     "metadata": {},
     "output_type": "execute_result"
    }
   ],
   "source": [
    "monthly_claim"
   ]
  },
  {
   "cell_type": "code",
   "execution_count": 95,
   "id": "1200c4ff",
   "metadata": {},
   "outputs": [
    {
     "data": {
      "text/plain": [
       "<Axes: xlabel='month', ylabel='Claim Amount'>"
      ]
     },
     "execution_count": 95,
     "metadata": {},
     "output_type": "execute_result"
    },
    {
     "data": {
      "image/png": "[encoded data removed]",
      "text/plain": [
       "<Figure size 640x480 with 1 Axes>"
      ]
     },
     "metadata": {},
     "output_type": "display_data"
    }
   ],
   "source": [
    "monthly_claim.plot(kind='bar', ylabel='Claim Amount')"
   ]
  },
  {
   "cell_type": "markdown",
   "id": "379a9efc",
   "metadata": {},
   "source": [
    "# 15. What is the average claim amount for gender and age categories and suitably represent the above using a facetted bar chart, one facet that represents fraudulent claims and the other for non-fraudulent claims.\n"
   ]
  },
  {
   "cell_type": "code",
   "execution_count": 106,
   "id": "3ca9cf88",
   "metadata": {},
   "outputs": [
    {
     "data": {
      "text/plain": [
       "<seaborn.axisgrid.FacetGrid at 0x1e8790e42d0>"
      ]
     },
     "execution_count": 106,
     "metadata": {},
     "output_type": "execute_result"
    },
    {
     "data": {
      "image/png": "[encoded data removed]",
      "text/plain": [
       "<Figure size 1107.88x500 with 2 Axes>"
      ]
     },
     "metadata": {},
     "output_type": "display_data"
    }
   ],
   "source": [
    "sns.catplot(data=unique_cust, x='gender', y='claim_amount', hue='Age_group', col='fraudulent', kind='bar')"
   ]
  },
  {
   "cell_type": "markdown",
   "id": "fde9bfdd",
   "metadata": {},
   "source": [
    "# Based on the conclusions from exploratory analysis as well as suitable statistical tests, answer the below questions. Please include a detailed write-up on the parameters taken into consideration, the Hypothesis testing steps, conclusion from the p-values and the business implications of the statements. "
   ]
  },
  {
   "cell_type": "markdown",
   "id": "ffe88557",
   "metadata": {},
   "source": [
    "# 16. Is there any similarity in the amount claimed by males and females?"
   ]
  },
  {
   "cell_type": "code",
   "execution_count": 107,
   "id": "c5344652",
   "metadata": {},
   "outputs": [],
   "source": [
    "f_claim=unique_cust.claim_amount[unique_cust.gender=='Female']\n",
    "m_claim=unique_cust.claim_amount[unique_cust.gender=='Male']"
   ]
  },
  {
   "cell_type": "code",
   "execution_count": 108,
   "id": "bb1be9d9",
   "metadata": {},
   "outputs": [
    {
     "name": "stdout",
     "output_type": "stream",
     "text": [
      "mean of male claim:  12821.543\n",
      "mean of female claim:  12105.598\n"
     ]
    }
   ],
   "source": [
    "# mean of claim amount for male and female\n",
    "print('mean of male claim: ', m_claim.mean())\n",
    "print('mean of female claim: ', f_claim.mean())"
   ]
  },
  {
   "cell_type": "markdown",
   "id": "d25180c7",
   "metadata": {},
   "source": [
    "Hypothesis conditons\n",
    "1. Ho- similarity in claim amounts,  Ha-Not similar\n",
    "2. confidence: 95%\n",
    "3. significance 5%\n",
    "4. t- test "
   ]
  },
  {
   "cell_type": "code",
   "execution_count": 110,
   "id": "696d661e",
   "metadata": {},
   "outputs": [
    {
     "data": {
      "text/plain": [
       "TtestResult(statistic=0.8848206621724444, pvalue=0.37644976200164215, df=1083.0)"
      ]
     },
     "execution_count": 110,
     "metadata": {},
     "output_type": "execute_result"
    }
   ],
   "source": [
    "# since hypothesis using t-test\n",
    "stats.ttest_ind(m_claim,f_claim)"
   ]
  },
  {
   "cell_type": "markdown",
   "id": "3a7153f4",
   "metadata": {},
   "source": [
    "1. data used: Gender and Claim Amount\n",
    "2. test method used: t-test| independent sample testing\n",
    "3. we accept null hypothesis since p-value is very high\n",
    "\n",
    "4. This indicates there is similarity between claim amounts claimed by males and females"
   ]
  },
  {
   "cell_type": "markdown",
   "id": "e845a05b",
   "metadata": {},
   "source": [
    "# 17. Is there any relationship between age category and segement?"
   ]
  },
  {
   "cell_type": "code",
   "execution_count": 111,
   "id": "8e509433",
   "metadata": {},
   "outputs": [],
   "source": [
    "relation=pd.crosstab(unique_cust.Age_group, unique_cust.Segment)"
   ]
  },
  {
   "cell_type": "code",
   "execution_count": 112,
   "id": "287125bd",
   "metadata": {},
   "outputs": [
    {
     "data": {
      "text/html": [
       "<div>\n",
       "<style scoped>\n",
       "    .dataframe tbody tr th:only-of-type {\n",
       "        vertical-align: middle;\n",
       "    }\n",
       "\n",
       "    .dataframe tbody tr th {\n",
       "        vertical-align: top;\n",
       "    }\n",
       "\n",
       "    .dataframe thead th {\n",
       "        text-align: right;\n",
       "    }\n",
       "</style>\n",
       "<table border=\"1\" class=\"dataframe\">\n",
       "  <thead>\n",
       "    <tr style=\"text-align: right;\">\n",
       "      <th>Segment</th>\n",
       "      <th>Gold</th>\n",
       "      <th>Platinum</th>\n",
       "      <th>Silver</th>\n",
       "    </tr>\n",
       "    <tr>\n",
       "      <th>Age_group</th>\n",
       "      <th></th>\n",
       "      <th></th>\n",
       "      <th></th>\n",
       "    </tr>\n",
       "  </thead>\n",
       "  <tbody>\n",
       "    <tr>\n",
       "      <th>Adult</th>\n",
       "      <td>268</td>\n",
       "      <td>244</td>\n",
       "      <td>246</td>\n",
       "    </tr>\n",
       "    <tr>\n",
       "      <th>Children</th>\n",
       "      <td>1</td>\n",
       "      <td>1</td>\n",
       "      <td>0</td>\n",
       "    </tr>\n",
       "    <tr>\n",
       "      <th>Senior</th>\n",
       "      <td>1</td>\n",
       "      <td>3</td>\n",
       "      <td>3</td>\n",
       "    </tr>\n",
       "    <tr>\n",
       "      <th>Youth</th>\n",
       "      <td>102</td>\n",
       "      <td>116</td>\n",
       "      <td>100</td>\n",
       "    </tr>\n",
       "  </tbody>\n",
       "</table>\n",
       "</div>"
      ],
      "text/plain": [
       "Segment    Gold  Platinum  Silver\n",
       "Age_group                        \n",
       "Adult       268       244     246\n",
       "Children      1         1       0\n",
       "Senior        1         3       3\n",
       "Youth       102       116     100"
      ]
     },
     "execution_count": 112,
     "metadata": {},
     "output_type": "execute_result"
    }
   ],
   "source": [
    "relation"
   ]
  },
  {
   "cell_type": "code",
   "execution_count": 115,
   "id": "a4cca331",
   "metadata": {},
   "outputs": [],
   "source": [
    "# Ho: There is no relationship\n",
    "# Ha: There is relation\n",
    "\n",
    "# confidence: 95%\n",
    "# significance: 5%\n",
    "\n",
    "# chi2_contignency test"
   ]
  },
  {
   "cell_type": "code",
   "execution_count": 114,
   "id": "62ae37bc",
   "metadata": {},
   "outputs": [
    {
     "data": {
      "text/plain": [
       "Chi2ContingencyResult(statistic=4.202535990127085, pvalue=0.6492889827669299, dof=6, expected_freq=array([[259.88571429, 254.29677419, 243.81751152],\n",
       "       [  0.68571429,   0.67096774,   0.64331797],\n",
       "       [  2.4       ,   2.3483871 ,   2.2516129 ],\n",
       "       [109.02857143, 106.68387097, 102.2875576 ]]))"
      ]
     },
     "execution_count": 114,
     "metadata": {},
     "output_type": "execute_result"
    }
   ],
   "source": [
    "stats.chi2_contingency(relation)"
   ]
  },
  {
   "cell_type": "code",
   "execution_count": 117,
   "id": "bb58de4f",
   "metadata": {},
   "outputs": [],
   "source": [
    "# Data used: Age_group, Segment\n",
    "# nethod of test: Chi2 test\n",
    "# We accept the null hypothesis since p- value is in the confidence range\n",
    "# There is no relation between age group and segment"
   ]
  },
  {
   "cell_type": "markdown",
   "id": "1a9d84cb",
   "metadata": {},
   "source": [
    "# 18. The current year has shown a significant rise in the claim amounts as compared to 2016-17 fiscal average which was $ 10,000."
   ]
  },
  {
   "cell_type": "code",
   "execution_count": 135,
   "id": "2252f69d",
   "metadata": {},
   "outputs": [
    {
     "data": {
      "text/plain": [
       "12687.266"
      ]
     },
     "execution_count": 135,
     "metadata": {},
     "output_type": "execute_result"
    }
   ],
   "source": [
    "unique_cust.loc[unique_cust.claim_date.dt.year==2018].claim_amount.mean()"
   ]
  },
  {
   "cell_type": "code",
   "execution_count": 128,
   "id": "5e4e9e81",
   "metadata": {},
   "outputs": [],
   "source": [
    "# Ho: there is no significant change in claim amount\n",
    "# Ha: There significant rise in claim amount \n",
    "# confidence : 95%\n",
    "# significance: 5%\n",
    "\n",
    "# test method: t-test 1 sample"
   ]
  },
  {
   "cell_type": "code",
   "execution_count": 131,
   "id": "fd340c2d",
   "metadata": {},
   "outputs": [
    {
     "data": {
      "text/plain": [
       "TtestResult(statistic=4.371256123261415, pvalue=1.5155209737733867e-05, df=480)"
      ]
     },
     "execution_count": 131,
     "metadata": {},
     "output_type": "execute_result"
    }
   ],
   "source": [
    "stats.ttest_1samp(year_18,10000)"
   ]
  },
  {
   "cell_type": "code",
   "execution_count": 133,
   "id": "91e87f39",
   "metadata": {},
   "outputs": [],
   "source": [
    "# data used: claim date, claim amount\n",
    "# method used: t-test_1samp\n",
    "# we reject null hypothesis since p-value is out of confidence region\n",
    "# We can say there is significant rise in claim amount in 2018 in comparison to 2016-17 fiscal average of $ 10,000."
   ]
  },
  {
   "cell_type": "markdown",
   "id": "70dd7590",
   "metadata": {},
   "source": [
    "# 19. Is there any difference between age groups and insurance claims?"
   ]
  },
  {
   "cell_type": "code",
   "execution_count": 134,
   "id": "6605374a",
   "metadata": {},
   "outputs": [],
   "source": [
    "group1=unique_cust.loc[unique_cust.Age_group=='Children', 'claim_amount']\n",
    "group2=unique_cust.loc[unique_cust.Age_group=='Youth', 'claim_amount']\n",
    "group3=unique_cust.loc[unique_cust.Age_group=='Adult', 'claim_amount']\n",
    "group4=unique_cust.loc[unique_cust.Age_group=='Senior', 'claim_amount']"
   ]
  },
  {
   "cell_type": "code",
   "execution_count": 136,
   "id": "8a6cb653",
   "metadata": {},
   "outputs": [
    {
     "data": {
      "text/plain": [
       "<Axes: xlabel='Age_group', ylabel='claim_amount'>"
      ]
     },
     "execution_count": 136,
     "metadata": {},
     "output_type": "execute_result"
    },
    {
     "data": {
      "image/png": "[encoded data removed]",
      "text/plain": [
       "<Figure size 640x480 with 1 Axes>"
      ]
     },
     "metadata": {},
     "output_type": "display_data"
    }
   ],
   "source": [
    "sns.boxplot(x=unique_cust.Age_group, y=unique_cust.claim_amount)"
   ]
  },
  {
   "cell_type": "code",
   "execution_count": 137,
   "id": "f5396307",
   "metadata": {},
   "outputs": [],
   "source": [
    "# Ho: There is no difference between age groups and insurance claims\n",
    "# Ha: There is a difference between age groups and insurance claims\n",
    "\n",
    "# confidence: 95%\n",
    "# significance: 5%\n",
    "\n",
    "# method: Anova"
   ]
  },
  {
   "cell_type": "code",
   "execution_count": 138,
   "id": "6a0c1b35",
   "metadata": {},
   "outputs": [
    {
     "data": {
      "text/plain": [
       "F_onewayResult(statistic=0.9807715094144442, pvalue=0.40101980683463445)"
      ]
     },
     "execution_count": 138,
     "metadata": {},
     "output_type": "execute_result"
    }
   ],
   "source": [
    "stats.f_oneway(group1,group2,group3, group4)"
   ]
  },
  {
   "cell_type": "code",
   "execution_count": 140,
   "id": "db778078",
   "metadata": {},
   "outputs": [],
   "source": [
    "# from above we can infer that p- value is within the confidence region,\n",
    "# Hence, We accept the null hypothesis whih implies there is no difference in agre groups and insurance claims."
   ]
  },
  {
   "cell_type": "markdown",
   "id": "007a9a50",
   "metadata": {},
   "source": [
    "# 20. Is there any relationship between total number of policy claims and the claim amount?"
   ]
  },
  {
   "cell_type": "code",
   "execution_count": 144,
   "id": "2bafd216",
   "metadata": {},
   "outputs": [
    {
     "data": {
      "text/plain": [
       "-0.014369036071438702"
      ]
     },
     "execution_count": 144,
     "metadata": {},
     "output_type": "execute_result"
    }
   ],
   "source": [
    "unique_cust.total_policy_claims.corr(other=unique_cust.claim_amount)"
   ]
  },
  {
   "cell_type": "markdown",
   "id": "386bfda1",
   "metadata": {},
   "source": [
    "# Above correaltion with negative values show that the total number of isurance plolicy claims is inversely proportional to claim amount."
   ]
  },
  {
   "cell_type": "markdown",
   "id": "b02c26d5",
   "metadata": {},
   "source": [
    "# Thank You! "
   ]
  }
 ],
 "metadata": {
  "kernelspec": {
   "display_name": "Python 3 (ipykernel)",
   "language": "python",
   "name": "python3"
  },
  "language_info": {
   "codemirror_mode": {
    "name": "ipython",
    "version": 3
   },
   "file_extension": ".py",
   "mimetype": "text/x-python",
   "name": "python",
   "nbconvert_exporter": "python",
   "pygments_lexer": "ipython3",
   "version": "3.11.7"
  }
 },
 "nbformat": 4,
 "nbformat_minor": 5
}
